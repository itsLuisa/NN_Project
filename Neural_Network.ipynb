{
 "cells": [
  {
   "cell_type": "markdown",
   "metadata": {},
   "source": [
    "# Neural Network"
   ]
  },
  {
   "cell_type": "markdown",
   "metadata": {},
   "source": [
    "This is the core of our project. For running this, you need to have created three accordingly formatted splits of the data by running these files from the repository:\n",
    "* preprocessing.sh\n",
    "* splitting_data.py\n",
    "\n",
    "You don't need to run the following files because this Notebook accesses them directly:\n",
    "* data_loading.py\n",
    "* tokenizer.py\n",
    "* embeddings.py"
   ]
  },
  {
   "cell_type": "markdown",
   "metadata": {},
   "source": [
    "## Imports"
   ]
  },
  {
   "cell_type": "code",
   "execution_count": 49,
   "metadata": {
    "scrolled": true
   },
   "outputs": [],
   "source": [
    "import datasets\n",
    "import transformers\n",
    "import torch\n",
    "import torch.nn as nn\n",
    "import torch.nn.functional as F\n",
    "import torch.optim as optim\n",
    "import matplotlib.pyplot as plt\n",
    "import random\n",
    "import numpy as np\n",
    "from tokenizer import tokenize_and_encode, encode_pos\n",
    "from embeddings import embedding_model"
   ]
  },
  {
   "cell_type": "markdown",
   "metadata": {},
   "source": [
    "## Data\n",
    "Please insert the names of the three splits below:"
   ]
  },
  {
   "cell_type": "code",
   "execution_count": 205,
   "metadata": {},
   "outputs": [],
   "source": [
    "training_file = \"middle_train.tsv\"\n",
    "validation_file = \"middle_val.tsv\"\n",
    "test_file = \"middle_test.tsv\""
   ]
  },
  {
   "cell_type": "markdown",
   "metadata": {},
   "source": [
    "## Loading the data"
   ]
  },
  {
   "cell_type": "code",
   "execution_count": 206,
   "metadata": {},
   "outputs": [
    {
     "name": "stderr",
     "output_type": "stream",
     "text": [
      "Using custom data configuration default-0715ccd4c03216d1\n",
      "Reusing dataset sample (C:\\Users\\Luisa\\.cache\\huggingface\\datasets\\sample\\default-0715ccd4c03216d1\\0.0.0\\cd100589429990ebe2c7713d0ebc54a510b4404ae27f91b9fd14d9da132fa4be)\n"
     ]
    }
   ],
   "source": [
    "data_files = {\n",
    "            \"train\": training_file,\n",
    "            \"test\": test_file,\n",
    "            \"validation\": validation_file\n",
    "        }\n",
    "\n",
    "data_sets = datasets.load_dataset(\"data_loading.py\", data_files=data_files)"
   ]
  },
  {
   "cell_type": "markdown",
   "metadata": {},
   "source": [
    "## Tokenizing the data"
   ]
  },
  {
   "cell_type": "code",
   "execution_count": 207,
   "metadata": {},
   "outputs": [
    {
     "name": "stdout",
     "output_type": "stream",
     "text": [
      "{'input_ids': tensor([[  101,   138,  7721,  1590,  2492,   170,  1490,  2730,  1107,  1134,\n",
      "          1131,   182,  6334,  2316,  1123,  1711,  1105,  7252,  1103,  7703,\n",
      "          1104,  1117, 21870,   119,   102,     0,     0,     0,     0,     0,\n",
      "             0,     0,     0,     0,     0,     0,     0,     0,     0,     0,\n",
      "             0,     0,     0,     0,     0,     0,     0,     0,     0,     0,\n",
      "             0,     0,     0,     0,     0,     0,     0,     0,     0,     0,\n",
      "             0,     0,     0,     0,     0,     0,     0,     0,     0,     0,\n",
      "             0,     0,     0]]), 'token_type_ids': tensor([[0, 0, 0, 0, 0, 0, 0, 0, 0, 0, 0, 0, 0, 0, 0, 0, 0, 0, 0, 0, 0, 0, 0, 0,\n",
      "         0, 0, 0, 0, 0, 0, 0, 0, 0, 0, 0, 0, 0, 0, 0, 0, 0, 0, 0, 0, 0, 0, 0, 0,\n",
      "         0, 0, 0, 0, 0, 0, 0, 0, 0, 0, 0, 0, 0, 0, 0, 0, 0, 0, 0, 0, 0, 0, 0, 0,\n",
      "         0]]), 'attention_mask': tensor([[1, 1, 1, 1, 1, 1, 1, 1, 1, 1, 1, 1, 1, 1, 1, 1, 1, 1, 1, 1, 1, 1, 1, 1,\n",
      "         1, 0, 0, 0, 0, 0, 0, 0, 0, 0, 0, 0, 0, 0, 0, 0, 0, 0, 0, 0, 0, 0, 0, 0,\n",
      "         0, 0, 0, 0, 0, 0, 0, 0, 0, 0, 0, 0, 0, 0, 0, 0, 0, 0, 0, 0, 0, 0, 0, 0,\n",
      "         0]])}\n",
      "torch.Size([1, 73])\n",
      "{'input_ids': tensor([[101,  11,  16,  22,  42,  11,  22,  22,  15,  43,  28,  42,  29,  22,\n",
      "           9,  42,  11,  22,  15,  29,  25,   5, 102,   0,   0,   0,   0,   0,\n",
      "           0,   0,   0,   0,   0,   0,   0,   0,   0,   0,   0,   0,   0,   0,\n",
      "           0,   0,   0,   0,   0,   0,   0,   0,   0,   0,   0,   0,   0,   0,\n",
      "           0,   0,   0,   0,   0,   0,   0,   0,   0,   0,   0,   0,   0,   0,\n",
      "           0,   0,   0]]), 'token_type_ids': tensor([[0, 0, 0, 0, 0, 0, 0, 0, 0, 0, 0, 0, 0, 0, 0, 0, 0, 0, 0, 0, 0, 0, 0, 0,\n",
      "         0, 0, 0, 0, 0, 0, 0, 0, 0, 0, 0, 0, 0, 0, 0, 0, 0, 0, 0, 0, 0, 0, 0, 0,\n",
      "         0, 0, 0, 0, 0, 0, 0, 0, 0, 0, 0, 0, 0, 0, 0, 0, 0, 0, 0, 0, 0, 0, 0, 0,\n",
      "         0]]), 'attention_mask': tensor([[1, 1, 1, 1, 1, 1, 1, 1, 1, 1, 1, 1, 1, 1, 1, 1, 1, 1, 1, 1, 1, 1, 1, 0,\n",
      "         0, 0, 0, 0, 0, 0, 0, 0, 0, 0, 0, 0, 0, 0, 0, 0, 0, 0, 0, 0, 0, 0, 0, 0,\n",
      "         0, 0, 0, 0, 0, 0, 0, 0, 0, 0, 0, 0, 0, 0, 0, 0, 0, 0, 0, 0, 0, 0, 0, 0,\n",
      "         0]])}\n",
      "torch.Size([1, 73])\n"
     ]
    }
   ],
   "source": [
    "# tokens\n",
    "tokenized_train = tokenize_and_encode(\"train\", data_sets)\n",
    "tokenized_test = tokenize_and_encode(\"test\", data_sets)\n",
    "tokenized_validation = tokenize_and_encode(\"validation\", data_sets)\n",
    "# lists of dictionaries with keys: \"input_ids\", \"token_type_ids\", \"attention_mask\"\n",
    "\n",
    "# pos-tags\n",
    "pos_encoded_train = encode_pos(\"train\", data_sets)\n",
    "pos_encoded_test = encode_pos(\"test\", data_sets)\n",
    "pos_encoded_validation = encode_pos(\"validation\", data_sets)\n",
    "\n",
    "print(tokenized_train[0]) # first sentence, tokenized\n",
    "print(tokenized_train[0][\"input_ids\"].shape)\n",
    "print(pos_encoded_train[0]) # first sentence, pos, tokenized\n",
    "print(pos_encoded_train[0][\"input_ids\"].shape)"
   ]
  },
  {
   "cell_type": "markdown",
   "metadata": {},
   "source": [
    "## Embeddings\n",
    "!Attention: This might take a while!"
   ]
  },
  {
   "cell_type": "code",
   "execution_count": 208,
   "metadata": {},
   "outputs": [],
   "source": [
    "embedded_train = list()\n",
    "embedded_val = list()\n",
    "embedded_test = list()\n",
    "for sentence in tokenized_train:\n",
    "    embedding = embedding_model(sentence[\"input_ids\"])\n",
    "    embedded_train.append(embedding[\"last_hidden_state\"])\n",
    "# shape of embedded sentence = [1,73,768]\n",
    "for sentence in tokenized_validation:\n",
    "    embedding = embedding_model(sentence[\"input_ids\"])\n",
    "    embedded_val.append(embedding[\"last_hidden_state\"])\n",
    "for sentence in tokenized_test:\n",
    "    embedding = embedding_model(sentence[\"input_ids\"])\n",
    "    embedded_test.append(embedding[\"last_hidden_state\"])"
   ]
  },
  {
   "cell_type": "markdown",
   "metadata": {},
   "source": [
    "## Defining Hyperparameters"
   ]
  },
  {
   "cell_type": "code",
   "execution_count": 220,
   "metadata": {},
   "outputs": [],
   "source": [
    "# changeable\n",
    "num_layers = 2\n",
    "hidden_size = 128 # try 128\n",
    "learning_rate = 0.00001\n",
    "batch_size = 64\n",
    "num_epochs = 20\n",
    "\n",
    "# fixed\n",
    "input_size = 768\n",
    "sequence_length = 73\n",
    "num_classes = 103"
   ]
  },
  {
   "cell_type": "markdown",
   "metadata": {},
   "source": [
    "## Setting Seeds"
   ]
  },
  {
   "cell_type": "code",
   "execution_count": 221,
   "metadata": {},
   "outputs": [],
   "source": [
    "SEED = 1\n",
    "\n",
    "random.seed(SEED)\n",
    "np.random.seed(SEED)\n",
    "torch.manual_seed(SEED)\n",
    "torch.backends.cudnn.deterministic = True\n",
    "\n",
    "device = torch.device(\"cuda\" if torch.cuda.is_available() else \"cpu\")"
   ]
  },
  {
   "cell_type": "markdown",
   "metadata": {},
   "source": [
    "## Network architecture\n",
    "For the architecture of the network, we decided to go for an LSTM because it work well for sequence processing while at the same time handling vanishing and exploding gradients better than a regular RNN.<br>"
   ]
  },
  {
   "cell_type": "code",
   "execution_count": 222,
   "metadata": {},
   "outputs": [],
   "source": [
    "class LSTM(nn.Module):\n",
    "    def __init__(self, input_size, hidden_size, num_layers, num_classes):\n",
    "        super(LSTM, self).__init__()\n",
    "        self.hidden_size = hidden_size\n",
    "        self.num_layers = num_layers\n",
    "        self.lstm = nn.LSTM(input_size, hidden_size, num_layers)\n",
    "        self.fc = nn.Linear(hidden_size, num_classes)\n",
    "        \n",
    "    def forward(self, x):\n",
    "        h0 = torch.zeros(self.num_layers, x.size(1), self.hidden_size).to(device)\n",
    "        c0 = torch.zeros(self.num_layers, x.size(1), self.hidden_size).to(device)\n",
    "        \n",
    "        out, _ = self.lstm(x, (h0,c0))\n",
    "        out = self.fc(out.view(sequence_length, -1))\n",
    "        out = F.log_softmax(out, dim=1)\n",
    "        return out"
   ]
  },
  {
   "cell_type": "markdown",
   "metadata": {},
   "source": [
    "## Model instantiation"
   ]
  },
  {
   "cell_type": "code",
   "execution_count": 223,
   "metadata": {},
   "outputs": [],
   "source": [
    "model = LSTM(input_size, hidden_size, num_layers, num_classes).to(device)\n",
    "criterion = nn.CrossEntropyLoss()\n",
    "#criterion = nn.NLLLoss()\n",
    "optimizer = optim.Adam(model.parameters(), lr=learning_rate)\n",
    "#optimizer = optim.SGD(model.parameters(), lr=learning_rate)\n",
    "#optimizer = optim.SGD(model.parameters(), lr=learning_rate, momentum=0.5)"
   ]
  },
  {
   "cell_type": "markdown",
   "metadata": {},
   "source": [
    "## Training"
   ]
  },
  {
   "cell_type": "code",
   "execution_count": 224,
   "metadata": {},
   "outputs": [],
   "source": [
    "def train(epoch_acc, epoch_loss, eval_loss_batch):\n",
    "    for batch_idx, sentence in enumerate(tokenized_train):\n",
    "        model.zero_grad()\n",
    "        target = pos_encoded_train[batch_idx][\"input_ids\"]\n",
    "        target = target[0]\n",
    "        \n",
    "        # do embeddings\n",
    "        #embedded = embedding_model(sentence[\"input_ids\"])\n",
    "        #input_sentence = embedded[\"last_hidden_state\"]\n",
    "        input_sentence = embedded_train[batch_idx]\n",
    "        \n",
    "        # feed into model\n",
    "        scores = model(input_sentence)\n",
    "        _, predicted = torch.max(scores, 1)\n",
    "    \n",
    "        # loss\n",
    "        loss = criterion(scores, target)\n",
    "        eval_loss_batch.append(loss.item())\n",
    "        epoch_loss += loss.item()\n",
    "        \n",
    "        # accuracy\n",
    "        right = 0\n",
    "        for n, tag in enumerate(predicted):\n",
    "            if tag == target[n]:\n",
    "                right += 1\n",
    "        acc = right / len(predicted)\n",
    "        epoch_acc += acc\n",
    "        \n",
    "        # print info\n",
    "        #print(\"batch loss:\", loss.item(), \"\\tbatch accuracy:\", acc)\n",
    "        \n",
    "        # backpropagate\n",
    "        loss.backward()\n",
    "        optimizer.step()\n",
    "        \n",
    "    return epoch_acc, epoch_loss, eval_loss_batch"
   ]
  },
  {
   "cell_type": "markdown",
   "metadata": {},
   "source": [
    "## Validation"
   ]
  },
  {
   "cell_type": "code",
   "execution_count": 225,
   "metadata": {},
   "outputs": [],
   "source": [
    "def test(epoch_acc, epoch_loss):\n",
    "    for batch_idx, sentence in enumerate(tokenized_validation):\n",
    "        target = pos_encoded_train[batch_idx][\"input_ids\"]\n",
    "        target = target[0]\n",
    "        \n",
    "        # do embeddings\n",
    "        #embedded = embedding_model(sentence[\"input_ids\"])\n",
    "        #input_sentence = embedded[\"last_hidden_state\"]\n",
    "        input_sentence = embedded_val[batch_idx]\n",
    "        \n",
    "        # feed into model\n",
    "        scores = model(input_sentence)\n",
    "        _, predicted = torch.max(scores, 1)\n",
    "        \n",
    "        # loss\n",
    "        loss = criterion(scores, target)\n",
    "        epoch_loss += loss.item()\n",
    "        \n",
    "        # accuracy\n",
    "        right = 0\n",
    "        for n, tag in enumerate(predicted):\n",
    "            if tag == target[n]:\n",
    "                right += 1\n",
    "        acc = right / len(predicted)\n",
    "        epoch_acc += acc  \n",
    "        \n",
    "    return epoch_acc, epoch_loss"
   ]
  },
  {
   "cell_type": "markdown",
   "metadata": {},
   "source": [
    "## Run Training and Validation"
   ]
  },
  {
   "cell_type": "code",
   "execution_count": 226,
   "metadata": {},
   "outputs": [
    {
     "name": "stdout",
     "output_type": "stream",
     "text": [
      "--------- EPOCH 1 ---------\n",
      "----- Epoch 1 training loss: 2.52877347476758 training accuracy: 0.6670767817932387 -----\n",
      "----- Epoch 1 validation loss: 1.7495566034841838 validation accuracy: 0.7137072456276354 -----\n",
      "--------- EPOCH 2 ---------\n",
      "----- Epoch 2 training loss: 1.3303440001884856 training accuracy: 0.6983004750663686 -----\n",
      "----- Epoch 2 validation loss: 1.5417689355717836 validation accuracy: 0.7137072456276354 -----\n",
      "--------- EPOCH 3 ---------\n",
      "----- Epoch 3 training loss: 1.1334280577861653 training accuracy: 0.7014087160256867 -----\n",
      "----- Epoch 3 validation loss: 1.5379442492130095 validation accuracy: 0.7085871826114752 -----\n",
      "--------- EPOCH 4 ---------\n",
      "----- Epoch 4 training loss: 1.0195492304890361 training accuracy: 0.7327030511387999 -----\n",
      "----- Epoch 4 validation loss: 1.610208241371078 validation accuracy: 0.6373370749178432 -----\n",
      "--------- EPOCH 5 ---------\n",
      "----- Epoch 5 training loss: 0.9672232630442896 training accuracy: 0.745983717055876 -----\n",
      "----- Epoch 5 validation loss: 1.6779318247375354 validation accuracy: 0.6343216531895756 -----\n",
      "--------- EPOCH 6 ---------\n",
      "----- Epoch 6 training loss: 0.9383690533627242 training accuracy: 0.7530125801343296 -----\n",
      "----- Epoch 6 validation loss: 1.7332829907670388 validation accuracy: 0.63513397087964 -----\n",
      "--------- EPOCH 7 ---------\n",
      "----- Epoch 7 training loss: 0.9155022561755055 training accuracy: 0.7591937411329699 -----\n",
      "----- Epoch 7 validation loss: 1.780713022525045 validation accuracy: 0.6357739787566595 -----\n",
      "--------- EPOCH 8 ---------\n",
      "----- Epoch 8 training loss: 0.8949082973763366 training accuracy: 0.7617898287523992 -----\n",
      "----- Epoch 8 validation loss: 1.8235650334677929 validation accuracy: 0.6357985944442371 -----\n",
      "--------- EPOCH 9 ---------\n",
      "----- Epoch 9 training loss: 0.8757841785113777 training accuracy: 0.7639738389719186 -----\n",
      "----- Epoch 9 validation loss: 1.8636022929205942 validation accuracy: 0.635281665005106 -----\n",
      "--------- EPOCH 10 ---------\n",
      "----- Epoch 10 training loss: 0.8578868929279122 training accuracy: 0.7692072219507664 -----\n",
      "----- Epoch 10 validation loss: 1.9008656239667565 validation accuracy: 0.6347031963470298 -----\n",
      "--------- EPOCH 11 ---------\n",
      "----- Epoch 11 training loss: 0.8409854657275639 training accuracy: 0.7761654431892356 -----\n",
      "----- Epoch 11 validation loss: 1.9355725803866861 validation accuracy: 0.6339524178759104 -----\n",
      "--------- EPOCH 12 ---------\n",
      "----- Epoch 12 training loss: 0.824939194759318 training accuracy: 0.7828646443477619 -----\n",
      "----- Epoch 12 validation loss: 1.9677046851354576 validation accuracy: 0.6330662531231135 -----\n",
      "--------- EPOCH 13 ---------\n",
      "----- Epoch 13 training loss: 0.8096445793911117 training accuracy: 0.7883688210465508 -----\n",
      "----- Epoch 13 validation loss: 1.9973731168478004 validation accuracy: 0.6326231707467151 -----\n",
      "--------- EPOCH 14 ---------\n",
      "----- Epoch 14 training loss: 0.795121693347317 training accuracy: 0.7928604647055618 -----\n",
      "----- Epoch 14 validation loss: 2.0248218854288473 validation accuracy: 0.6320816256200056 -----\n",
      "--------- EPOCH 15 ---------\n",
      "----- Epoch 15 training loss: 0.781418096549492 training accuracy: 0.7966398031447294 -----\n",
      "----- Epoch 15 validation loss: 2.0503296578120564 validation accuracy: 0.6314785412743521 -----\n",
      "--------- EPOCH 16 ---------\n",
      "----- Epoch 16 training loss: 0.7686690783322652 training accuracy: 0.8002425369839368 -----\n",
      "----- Epoch 16 validation loss: 2.0740457237878043 validation accuracy: 0.6310723824293201 -----\n",
      "--------- EPOCH 17 ---------\n",
      "----- Epoch 17 training loss: 0.756830519605564 training accuracy: 0.8035685902832053 -----\n",
      "----- Epoch 17 validation loss: 2.0963254129850477 validation accuracy: 0.6304939137712441 -----\n",
      "--------- EPOCH 18 ---------\n",
      "----- Epoch 18 training loss: 0.7458597858563277 training accuracy: 0.8068298885624872 -----\n",
      "----- Epoch 18 validation loss: 2.1174029771670337 validation accuracy: 0.6299031372693796 -----\n",
      "--------- EPOCH 19 ---------\n",
      "----- Epoch 19 training loss: 0.7357031732683958 training accuracy: 0.809737977641848 -----\n",
      "----- Epoch 19 validation loss: 2.1374303488611424 validation accuracy: 0.6295462097995028 -----\n",
      "--------- EPOCH 20 ---------\n",
      "----- Epoch 20 training loss: 0.7262749309028403 training accuracy: 0.8121810079413105 -----\n",
      "----- Epoch 20 validation loss: 2.1565435177915178 validation accuracy: 0.6291646666420491 -----\n"
     ]
    }
   ],
   "source": [
    "train_eval_loss_epoch = list()\n",
    "train_eval_loss_batch = list()\n",
    "val_eval_loss_epoch = list()\n",
    "for epoch in range(1, num_epochs+1):\n",
    "    print(\"--------- EPOCH\", epoch, \"---------\")\n",
    "    train_epoch_acc = 0\n",
    "    train_epoch_loss = 0\n",
    "    val_epoch_acc = 0\n",
    "    val_epoch_loss = 0\n",
    "    \n",
    "    # train\n",
    "    train_epoch_acc, train_epoch_loss, train_eval_loss_batch = train(train_epoch_acc, train_epoch_loss, train_eval_loss_batch)\n",
    "    train_epoch_loss = train_epoch_loss/len(tokenized_train)\n",
    "    train_epoch_acc = train_epoch_acc/len(tokenized_train)\n",
    "    train_eval_loss_epoch.append(train_epoch_loss)\n",
    "    \n",
    "    # validation\n",
    "    val_epoch_acc, val_epoch_loss = test(val_epoch_acc, val_epoch_loss)\n",
    "    val_epoch_loss = val_epoch_loss/len(tokenized_validation)\n",
    "    val_epoch_acc = val_epoch_acc/len(tokenized_validation)\n",
    "    val_eval_loss_epoch.append(val_epoch_loss)\n",
    "    \n",
    "    print(\"----- Epoch\", epoch, \"training loss:\", train_epoch_loss, \"training accuracy:\", train_epoch_acc, \"-----\")\n",
    "    print(\"----- Epoch\", epoch, \"validation loss:\", val_epoch_loss, \"validation accuracy:\", val_epoch_acc, \"-----\")"
   ]
  },
  {
   "cell_type": "markdown",
   "metadata": {},
   "source": [
    "## Plotting Results"
   ]
  },
  {
   "cell_type": "code",
   "execution_count": 73,
   "metadata": {},
   "outputs": [
    {
     "data": {
      "text/plain": [
       "<function matplotlib.pyplot.show(close=None, block=None)>"
      ]
     },
     "execution_count": 73,
     "metadata": {},
     "output_type": "execute_result"
    },
    {
     "data": {
      "image/png": "[encoded data removed]",
      "text/plain": [
       "<Figure size 432x288 with 1 Axes>"
      ]
     },
     "metadata": {
      "needs_background": "light"
     },
     "output_type": "display_data"
    }
   ],
   "source": [
    "plt.plot(eval_loss_batch)\n",
    "#plt.plot([188, 376, 564], eval_loss_epoch)\n",
    "plt.show"
   ]
  },
  {
   "cell_type": "code",
   "execution_count": 227,
   "metadata": {},
   "outputs": [
    {
     "name": "stdout",
     "output_type": "stream",
     "text": [
      "46540\n",
      "2327.0\n",
      "[2327, 4654, 6981, 9308, 11635, 13962, 16289, 18616, 20943, 23270, 25597, 27924, 30251, 32578, 34905, 37232, 39559, 41886, 44213, 46540]\n"
     ]
    },
    {
     "data": {
      "text/plain": [
       "<function matplotlib.pyplot.show(close=None, block=None)>"
      ]
     },
     "execution_count": 227,
     "metadata": {},
     "output_type": "execute_result"
    },
    {
     "data": {
      "image/png": "[encoded data removed]",
      "text/plain": [
       "<Figure size 432x288 with 1 Axes>"
      ]
     },
     "metadata": {
      "needs_background": "light"
     },
     "output_type": "display_data"
    }
   ],
   "source": [
    "plt.plot(train_eval_loss_batch)\n",
    "print(len(train_eval_loss_batch))\n",
    "print(len(train_eval_loss_batch)/20)\n",
    "batches = [i for i in range(2327,46541,2327)]\n",
    "print(batches)\n",
    "plt.plot(batches, train_eval_loss_epoch)\n",
    "plt.plot(batches, val_eval_loss_epoch)\n",
    "plt.show"
   ]
  },
  {
   "cell_type": "markdown",
   "metadata": {},
   "source": [
    "With adam optimizer, 50 epochs of training on the small dataset and 256 hidden_size and negative log likelyhood loss function the model heavily overfits.\n",
    "Same goes for 128 hidden_size.\n",
    "Same goes for cross entropy loss but not as heavily.\n",
    "We need regularization!"
   ]
  }
 ],
 "metadata": {
  "kernelspec": {
   "display_name": "Valentina_Luisa",
   "language": "python",
   "name": "valentina_luisa"
  },
  "language_info": {
   "codemirror_mode": {
    "name": "ipython",
    "version": 3
   },
   "file_extension": ".py",
   "mimetype": "text/x-python",
   "name": "python",
   "nbconvert_exporter": "python",
   "pygments_lexer": "ipython3",
   "version": "3.8.5"
  }
 },
 "nbformat": 4,
 "nbformat_minor": 4
}
