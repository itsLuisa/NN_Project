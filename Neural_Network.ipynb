{
 "cells": [
  {
   "cell_type": "markdown",
   "metadata": {},
   "source": [
    "# Neural Network"
   ]
  },
  {
   "cell_type": "markdown",
   "metadata": {},
   "source": [
    "This is the core of our project. For running this, you need to have created three accordingly formatted splits of the data by running these files from the repository:\n",
    "* preprocessing.sh\n",
    "* dataset_size.py\n",
    "* splitting_data.py\n",
    "\n",
    "You don't need to run the following files because this Notebook accesses them directly:\n",
    "* data_loading.py\n",
    "* tokenizer.py\n",
    "* embeddings.py"
   ]
  },
  {
   "cell_type": "markdown",
   "metadata": {},
   "source": [
    "## Imports"
   ]
  },
  {
   "cell_type": "code",
   "execution_count": 1,
   "metadata": {
    "scrolled": true
   },
   "outputs": [],
   "source": [
    "import datasets\n",
    "import transformers\n",
    "import torch\n",
    "import torch.nn as nn\n",
    "import torch.nn.functional as F\n",
    "import torch.optim as optim\n",
    "import matplotlib.pyplot as plt\n",
    "import random\n",
    "import numpy as np\n",
    "from tokenizer import tokenize_and_encode, encode_pos, initialize_tokenizer\n",
    "from embeddings import embedding_model, initialize_model"
   ]
  },
  {
   "cell_type": "markdown",
   "metadata": {},
   "source": [
    "## Data\n",
    "Please insert the names of the three splits below:"
   ]
  },
  {
   "cell_type": "code",
   "execution_count": 54,
   "metadata": {},
   "outputs": [],
   "source": [
    "training_file = \"small_train.tsv\"\n",
    "validation_file = \"small_val.tsv\"\n",
    "test_file = \"small_test.tsv\""
   ]
  },
  {
   "cell_type": "markdown",
   "metadata": {},
   "source": [
    "## Loading the data\n",
    "(uses data_loading.py)"
   ]
  },
  {
   "cell_type": "code",
   "execution_count": 55,
   "metadata": {},
   "outputs": [
    {
     "name": "stderr",
     "output_type": "stream",
     "text": [
      "Using custom data configuration default-f1b68d8d23c8b204\n",
      "Reusing dataset sample (C:\\Users\\Luisa\\.cache\\huggingface\\datasets\\sample\\default-f1b68d8d23c8b204\\0.0.0\\a47856eba89262b97a9bfe6357cee71a0f0f52265edb14e72c8467526322efb5)\n"
     ]
    }
   ],
   "source": [
    "data_files = {\n",
    "            \"train\": training_file,\n",
    "            \"test\": test_file,\n",
    "            \"validation\": validation_file\n",
    "        }\n",
    "\n",
    "data_sets = datasets.load_dataset(\"data_loading.py\", data_files=data_files)"
   ]
  },
  {
   "cell_type": "markdown",
   "metadata": {},
   "source": [
    "## Tokenizing the data\n",
    "(uses tokenizer.py)"
   ]
  },
  {
   "cell_type": "code",
   "execution_count": 56,
   "metadata": {},
   "outputs": [
    {
     "name": "stdout",
     "output_type": "stream",
     "text": [
      "{'input_ids': tensor([[  101,   138,  7721,  1590,  2492,   170,  1490,  2730,  1107,  1134,\n",
      "          1131,   100,  1123,  1711,  1105,  7252,  1103,  7703,  1104,  1117,\n",
      "         21870,   119,   102,     0,     0,     0,     0,     0,     0,     0,\n",
      "             0,     0,     0,     0,     0,     0,     0,     0,     0,     0,\n",
      "             0,     0,     0,     0,     0,     0,     0,     0,     0,     0,\n",
      "             0,     0,     0,     0,     0,     0,     0,     0,     0,     0,\n",
      "             0,     0,     0,     0,     0,     0,     0,     0,     0,     0,\n",
      "             0,     0,     0]]), 'token_type_ids': tensor([[0, 0, 0, 0, 0, 0, 0, 0, 0, 0, 0, 0, 0, 0, 0, 0, 0, 0, 0, 0, 0, 0, 0, 0,\n",
      "         0, 0, 0, 0, 0, 0, 0, 0, 0, 0, 0, 0, 0, 0, 0, 0, 0, 0, 0, 0, 0, 0, 0, 0,\n",
      "         0, 0, 0, 0, 0, 0, 0, 0, 0, 0, 0, 0, 0, 0, 0, 0, 0, 0, 0, 0, 0, 0, 0, 0,\n",
      "         0]]), 'attention_mask': tensor([[1, 1, 1, 1, 1, 1, 1, 1, 1, 1, 1, 1, 1, 1, 1, 1, 1, 1, 1, 1, 1, 1, 1, 0,\n",
      "         0, 0, 0, 0, 0, 0, 0, 0, 0, 0, 0, 0, 0, 0, 0, 0, 0, 0, 0, 0, 0, 0, 0, 0,\n",
      "         0, 0, 0, 0, 0, 0, 0, 0, 0, 0, 0, 0, 0, 0, 0, 0, 0, 0, 0, 0, 0, 0, 0, 0,\n",
      "         0]])}\n",
      "torch.Size([1, 73])\n",
      "{'input_ids': tensor([[101,  11,  16,  22,  42,  11,  22,  22,  15,  43,  28,  42,  29,  22,\n",
      "           9,  42,  11,  22,  15,  29,  25,   5, 102,   0,   0,   0,   0,   0,\n",
      "           0,   0,   0,   0,   0,   0,   0,   0,   0,   0,   0,   0,   0,   0,\n",
      "           0,   0,   0,   0,   0,   0,   0,   0,   0,   0,   0,   0,   0,   0,\n",
      "           0,   0,   0,   0,   0,   0,   0,   0,   0,   0,   0,   0,   0,   0,\n",
      "           0,   0,   0]]), 'token_type_ids': tensor([[0, 0, 0, 0, 0, 0, 0, 0, 0, 0, 0, 0, 0, 0, 0, 0, 0, 0, 0, 0, 0, 0, 0, 0,\n",
      "         0, 0, 0, 0, 0, 0, 0, 0, 0, 0, 0, 0, 0, 0, 0, 0, 0, 0, 0, 0, 0, 0, 0, 0,\n",
      "         0, 0, 0, 0, 0, 0, 0, 0, 0, 0, 0, 0, 0, 0, 0, 0, 0, 0, 0, 0, 0, 0, 0, 0,\n",
      "         0]]), 'attention_mask': tensor([[1, 1, 1, 1, 1, 1, 1, 1, 1, 1, 1, 1, 1, 1, 1, 1, 1, 1, 1, 1, 1, 1, 1, 0,\n",
      "         0, 0, 0, 0, 0, 0, 0, 0, 0, 0, 0, 0, 0, 0, 0, 0, 0, 0, 0, 0, 0, 0, 0, 0,\n",
      "         0, 0, 0, 0, 0, 0, 0, 0, 0, 0, 0, 0, 0, 0, 0, 0, 0, 0, 0, 0, 0, 0, 0, 0,\n",
      "         0]])}\n",
      "torch.Size([1, 73])\n"
     ]
    }
   ],
   "source": [
    "# initialize the tokenizer\n",
    "tz = initialize_tokenizer()\n",
    "\n",
    "# tokens\n",
    "tokenized_train = tokenize_and_encode(\"train\", data_sets, tz)\n",
    "tokenized_test = tokenize_and_encode(\"test\", data_sets, tz)\n",
    "tokenized_validation = tokenize_and_encode(\"validation\", data_sets, tz)\n",
    "# lists of dictionaries with keys: \"input_ids\", \"token_type_ids\", \"attention_mask\"\n",
    "\n",
    "# pos-tags\n",
    "pos_encoded_train = encode_pos(\"train\", data_sets, tz)\n",
    "pos_encoded_test = encode_pos(\"test\", data_sets, tz)\n",
    "pos_encoded_validation = encode_pos(\"validation\", data_sets, tz)\n",
    "\n",
    "print(tokenized_train[0]) # first sentence, tokenized\n",
    "print(tokenized_train[0][\"input_ids\"].shape)\n",
    "print(pos_encoded_train[0]) # first sentence, pos, tokenized\n",
    "print(pos_encoded_train[0][\"input_ids\"].shape)"
   ]
  },
  {
   "cell_type": "markdown",
   "metadata": {},
   "source": [
    "## Embeddings\n",
    "(uses embeddings.py)\n",
    "\n",
    "!Attention: This might take a while!\n",
    "\n",
    "Run time on tiny.tsv: almost none <br>\n",
    "Run time on small.tsv: ~$2\\frac{1}{2}$ minutes <br>\n",
    "Run time on medium.tsv: 25 minutes <br>\n",
    "Est. Run time on big.tsv: 4 hours 10 minutes (raises run time error)"
   ]
  },
  {
   "cell_type": "code",
   "execution_count": 57,
   "metadata": {},
   "outputs": [
    {
     "name": "stdout",
     "output_type": "stream",
     "text": [
      "tensor([[[-0.0436,  0.2515, -0.2050,  ..., -0.1305,  0.3815,  0.4437],\n",
      "         [ 0.4131, -0.6782,  0.7109,  ...,  0.2691,  0.7233,  0.0436],\n",
      "         [ 0.1060, -0.4957, -0.0068,  ...,  0.2639,  0.7863,  0.1481],\n",
      "         ...,\n",
      "         [-0.3734, -0.3053, -0.1967,  ..., -0.6291,  0.6752,  0.5565],\n",
      "         [-0.4191, -0.3896, -0.2305,  ..., -0.6712,  0.6959,  0.6134],\n",
      "         [-0.4102, -0.4059, -0.1413,  ..., -0.7709,  0.7231,  0.5648]]])\n",
      "torch.Size([1, 73, 768])\n"
     ]
    }
   ],
   "source": [
    "embedded_train = list()\n",
    "embedded_val = list()\n",
    "embedded_test = list()\n",
    "\n",
    "model = initialize_model()\n",
    "for sentence in tokenized_train:\n",
    "    embedding = embedding_model(model, sentence[\"input_ids\"])\n",
    "    embedded_train.append(embedding[\"last_hidden_state\"])\n",
    "# shape of embedded sentence = [1,73,768]\n",
    "for sentence in tokenized_validation:\n",
    "    embedding = embedding_model(model, sentence[\"input_ids\"])\n",
    "    embedded_val.append(embedding[\"last_hidden_state\"])\n",
    "for sentence in tokenized_test:\n",
    "    embedding = embedding_model(model, sentence[\"input_ids\"])\n",
    "    embedded_test.append(embedding[\"last_hidden_state\"])\n",
    "\n",
    "print(embedded_train[0]) # first sentence, embedded\n",
    "print(embedded_train[0].shape)"
   ]
  },
  {
   "cell_type": "markdown",
   "metadata": {},
   "source": [
    "## Defining Hyperparameters"
   ]
  },
  {
   "cell_type": "code",
   "execution_count": 73,
   "metadata": {},
   "outputs": [],
   "source": [
    "# changed throughout our trials\n",
    "num_epochs = 50\n",
    "learning_rate = 0.0001\n",
    "\n",
    "# generally also changeable (but we did not do so)\n",
    "num_layers = 2\n",
    "hidden_size = 128\n",
    "batch_size = 64\n",
    "\n",
    "# fixed\n",
    "input_size = 768\n",
    "sequence_length = 73\n",
    "num_classes = 103"
   ]
  },
  {
   "cell_type": "markdown",
   "metadata": {},
   "source": [
    "## Setting Seeds"
   ]
  },
  {
   "cell_type": "code",
   "execution_count": 66,
   "metadata": {},
   "outputs": [],
   "source": [
    "SEED = 1\n",
    "\n",
    "random.seed(SEED)\n",
    "np.random.seed(SEED)\n",
    "torch.manual_seed(SEED)\n",
    "torch.backends.cudnn.deterministic = True\n",
    "\n",
    "device = torch.device(\"cuda\" if torch.cuda.is_available() else \"cpu\")"
   ]
  },
  {
   "cell_type": "markdown",
   "metadata": {},
   "source": [
    "## Network architecture\n",
    "For the architecture of the network, we decided to go for an LSTM because it work well for sequence processing while at the same time handling vanishing and exploding gradients better than a regular RNN.<br>"
   ]
  },
  {
   "cell_type": "code",
   "execution_count": 67,
   "metadata": {},
   "outputs": [],
   "source": [
    "class LSTM(nn.Module):\n",
    "    def __init__(self, input_size, hidden_size, num_layers, num_classes):\n",
    "        super(LSTM, self).__init__()\n",
    "        self.hidden_size = hidden_size\n",
    "        self.num_layers = num_layers\n",
    "        self.lstm = nn.LSTM(input_size, hidden_size, num_layers)\n",
    "        self.fc = nn.Linear(hidden_size, num_classes)\n",
    "        \n",
    "    def forward(self, x):\n",
    "        h0 = torch.zeros(self.num_layers, x.size(1), self.hidden_size).to(device)\n",
    "        c0 = torch.zeros(self.num_layers, x.size(1), self.hidden_size).to(device)\n",
    "        \n",
    "        out, _ = self.lstm(x, (h0,c0))\n",
    "        out = self.fc(out.view(sequence_length, -1))\n",
    "        out = F.log_softmax(out, dim=1)\n",
    "        return out"
   ]
  },
  {
   "cell_type": "markdown",
   "metadata": {},
   "source": [
    "## Model instantiation\n",
    "In our trials we switched between the SGD-optimizer and the Adam-optimizer"
   ]
  },
  {
   "cell_type": "code",
   "execution_count": 68,
   "metadata": {},
   "outputs": [],
   "source": [
    "model = LSTM(input_size, hidden_size, num_layers, num_classes).to(device)\n",
    "criterion = nn.CrossEntropyLoss()\n",
    "optimizer = optim.Adam(model.parameters(), lr=learning_rate)\n",
    "#optimizer = optim.SGD(model.parameters(), lr=learning_rate)"
   ]
  },
  {
   "cell_type": "markdown",
   "metadata": {},
   "source": [
    "## Training"
   ]
  },
  {
   "cell_type": "code",
   "execution_count": 69,
   "metadata": {},
   "outputs": [],
   "source": [
    "def train(epoch_acc, epoch_loss, eval_loss_batch):\n",
    "    for batch_idx, sentence in enumerate(tokenized_train):\n",
    "        model.zero_grad()\n",
    "        target = pos_encoded_train[batch_idx][\"input_ids\"]\n",
    "        target = target[0]\n",
    "        \n",
    "        # do embeddings\n",
    "        #embedded = embedding_model(sentence[\"input_ids\"])\n",
    "        #input_sentence = embedded[\"last_hidden_state\"]\n",
    "        input_sentence = embedded_train[batch_idx]\n",
    "        \n",
    "        # feed into model\n",
    "        scores = model(input_sentence)\n",
    "        _, predicted = torch.max(scores, 1)\n",
    "    \n",
    "        # loss\n",
    "        loss = criterion(scores, target)\n",
    "        eval_loss_batch.append(loss.item())\n",
    "        epoch_loss += loss.item()\n",
    "        \n",
    "        # accuracy\n",
    "        right = 0\n",
    "        for n, tag in enumerate(predicted):\n",
    "            if tag == target[n]:\n",
    "                right += 1\n",
    "        acc = right / len(predicted)\n",
    "        epoch_acc += acc\n",
    "        \n",
    "        # print info\n",
    "        #print(\"batch loss:\", loss.item(), \"\\tbatch accuracy:\", acc)\n",
    "        \n",
    "        # backpropagate\n",
    "        loss.backward()\n",
    "        optimizer.step()\n",
    "        \n",
    "    return epoch_acc, epoch_loss, eval_loss_batch"
   ]
  },
  {
   "cell_type": "markdown",
   "metadata": {},
   "source": [
    "## Validation"
   ]
  },
  {
   "cell_type": "code",
   "execution_count": 70,
   "metadata": {},
   "outputs": [],
   "source": [
    "def test(epoch_acc, epoch_loss):\n",
    "    for batch_idx, sentence in enumerate(tokenized_validation):\n",
    "        target = pos_encoded_validation[batch_idx][\"input_ids\"]\n",
    "        target = target[0]\n",
    "        \n",
    "        # do embeddings\n",
    "        #embedded = embedding_model(sentence[\"input_ids\"])\n",
    "        #input_sentence = embedded[\"last_hidden_state\"]\n",
    "        input_sentence = embedded_val[batch_idx]\n",
    "        \n",
    "        # feed into model\n",
    "        scores = model(input_sentence)\n",
    "        _, predicted = torch.max(scores, 1)\n",
    "        \n",
    "        # loss\n",
    "        loss = criterion(scores, target)\n",
    "        epoch_loss += loss.item()\n",
    "        \n",
    "        # accuracy\n",
    "        right = 0\n",
    "        for n, tag in enumerate(predicted):\n",
    "            if tag == target[n]:\n",
    "                right += 1\n",
    "        acc = right / len(predicted)\n",
    "        epoch_acc += acc  \n",
    "        \n",
    "    return epoch_acc, epoch_loss"
   ]
  },
  {
   "cell_type": "markdown",
   "metadata": {},
   "source": [
    "## Run Training and Validation\n",
    "Every dataset up to medium.tsv should generally be quite fast (depending on the number of epochs of course)"
   ]
  },
  {
   "cell_type": "code",
   "execution_count": 71,
   "metadata": {
    "scrolled": true
   },
   "outputs": [
    {
     "name": "stdout",
     "output_type": "stream",
     "text": [
      "--------- EPOCH 1 ---------\n",
      "----- Epoch 1 training loss: 2.5424113641909467 training accuracy: 0.6847644503842306 -----\n",
      "----- Epoch 1 validation loss: 1.2966855553480294 validation accuracy: 0.7231822971549 -----\n",
      "--------- EPOCH 2 ---------\n",
      "----- Epoch 2 training loss: 1.2095301512901375 training accuracy: 0.7085421539146909 -----\n",
      "----- Epoch 2 validation loss: 1.0297129535904297 validation accuracy: 0.7230769230769232 -----\n",
      "--------- EPOCH 3 ---------\n",
      "----- Epoch 3 training loss: 0.9688688184369386 training accuracy: 0.7605524000445504 -----\n",
      "----- Epoch 3 validation loss: 0.8556210639958198 validation accuracy: 0.8031612223393048 -----\n",
      "--------- EPOCH 4 ---------\n",
      "----- Epoch 4 training loss: 0.8303651339942362 training accuracy: 0.812172847755877 -----\n",
      "----- Epoch 4 validation loss: 0.7495832311992462 validation accuracy: 0.8301369863013704 -----\n",
      "--------- EPOCH 5 ---------\n",
      "----- Epoch 5 training loss: 0.7267902389744191 training accuracy: 0.8405167613319993 -----\n",
      "----- Epoch 5 validation loss: 0.6513133313793402 validation accuracy: 0.8444678609062177 -----\n",
      "--------- EPOCH 6 ---------\n",
      "----- Epoch 6 training loss: 0.6226522472603777 training accuracy: 0.8571667223521571 -----\n",
      "----- Epoch 6 validation loss: 0.5566359869849223 validation accuracy: 0.8721812434141211 -----\n",
      "--------- EPOCH 7 ---------\n",
      "----- Epoch 7 training loss: 0.5299065836621979 training accuracy: 0.8752645060697204 -----\n",
      "----- Epoch 7 validation loss: 0.4764724583866505 validation accuracy: 0.8900948366701805 -----\n",
      "--------- EPOCH 8 ---------\n",
      "----- Epoch 8 training loss: 0.45329633538376507 training accuracy: 0.8910234992760906 -----\n",
      "----- Epoch 8 validation loss: 0.4102158820686432 validation accuracy: 0.9068493150684944 -----\n",
      "--------- EPOCH 9 ---------\n",
      "----- Epoch 9 training loss: 0.38950756429959604 training accuracy: 0.9086201135983979 -----\n",
      "----- Epoch 9 validation loss: 0.3566795226616355 validation accuracy: 0.9212855637513182 -----\n",
      "--------- EPOCH 10 ---------\n",
      "----- Epoch 10 training loss: 0.335896863011507 training accuracy: 0.9258826149905349 -----\n",
      "----- Epoch 10 validation loss: 0.31326502674044326 validation accuracy: 0.9342465753424668 -----\n",
      "--------- EPOCH 11 ---------\n",
      "----- Epoch 11 training loss: 0.290565017482069 training accuracy: 0.9396369306158827 -----\n",
      "----- Epoch 11 validation loss: 0.2778217018940128 validation accuracy: 0.942149631190728 -----\n",
      "--------- EPOCH 12 ---------\n",
      "----- Epoch 12 training loss: 0.25278371349128526 training accuracy: 0.950384229869697 -----\n",
      "----- Epoch 12 validation loss: 0.24906439219529813 validation accuracy: 0.9478398314014762 -----\n",
      "--------- EPOCH 13 ---------\n",
      "----- Epoch 13 training loss: 0.2212996767053941 training accuracy: 0.9571221739614665 -----\n",
      "----- Epoch 13 validation loss: 0.225470349801561 validation accuracy: 0.9533192834562706 -----\n",
      "--------- EPOCH 14 ---------\n",
      "----- Epoch 14 training loss: 0.19497293383413092 training accuracy: 0.9619668114489371 -----\n",
      "----- Epoch 14 validation loss: 0.20606674323431573 validation accuracy: 0.9577449947312968 -----\n",
      "--------- EPOCH 15 ---------\n",
      "----- Epoch 15 training loss: 0.17290117921746842 training accuracy: 0.9674796747967487 -----\n",
      "----- Epoch 15 validation loss: 0.19009756018909124 validation accuracy: 0.9608008429926245 -----\n",
      "--------- EPOCH 16 ---------\n",
      "----- Epoch 16 training loss: 0.15434736061871537 training accuracy: 0.9716004009355169 -----\n",
      "----- Epoch 16 validation loss: 0.1769551655994012 validation accuracy: 0.9623814541622767 -----\n",
      "--------- EPOCH 17 ---------\n",
      "----- Epoch 17 training loss: 0.13865906845899376 training accuracy: 0.9741062479117948 -----\n",
      "----- Epoch 17 validation loss: 0.1661001898133411 validation accuracy: 0.9645943097997898 -----\n",
      "--------- EPOCH 18 ---------\n",
      "----- Epoch 18 training loss: 0.12527278281665005 training accuracy: 0.9763893529346258 -----\n",
      "----- Epoch 18 validation loss: 0.157091064675926 validation accuracy: 0.9661749209694421 -----\n",
      "--------- EPOCH 19 ---------\n",
      "----- Epoch 19 training loss: 0.1137511378563032 training accuracy: 0.978004232097116 -----\n",
      "----- Epoch 19 validation loss: 0.1495593525146922 validation accuracy: 0.9667017913593262 -----\n",
      "--------- EPOCH 20 ---------\n",
      "----- Epoch 20 training loss: 0.10372446340932776 training accuracy: 0.9797304822363296 -----\n",
      "----- Epoch 20 validation loss: 0.14320489464399333 validation accuracy: 0.9678609062170712 -----\n",
      "--------- EPOCH 21 ---------\n",
      "----- Epoch 21 training loss: 0.09491008095541681 training accuracy: 0.9810112484686495 -----\n",
      "----- Epoch 21 validation loss: 0.1378122020405359 validation accuracy: 0.9685985247629089 -----\n",
      "--------- EPOCH 22 ---------\n",
      "----- Epoch 22 training loss: 0.08709285135108341 training accuracy: 0.9824033856776928 -----\n",
      "----- Epoch 22 validation loss: 0.13318456547478072 validation accuracy: 0.9689146469968394 -----\n",
      "--------- EPOCH 23 ---------\n",
      "----- Epoch 23 training loss: 0.08011438816263364 training accuracy: 0.9839625793518213 -----\n",
      "----- Epoch 23 validation loss: 0.12922308905085977 validation accuracy: 0.9693361433087467 -----\n",
      "--------- EPOCH 24 ---------\n",
      "----- Epoch 24 training loss: 0.0738578774034977 training accuracy: 0.9851876600957793 -----\n",
      "----- Epoch 24 validation loss: 0.12580976641844385 validation accuracy: 0.9698630136986308 -----\n",
      "--------- EPOCH 25 ---------\n",
      "----- Epoch 25 training loss: 0.06822357147579967 training accuracy: 0.9865797973048226 -----\n",
      "----- Epoch 25 validation loss: 0.12286376915872096 validation accuracy: 0.9700737618545844 -----\n",
      "--------- EPOCH 26 ---------\n",
      "----- Epoch 26 training loss: 0.06312231372235479 training accuracy: 0.9879719345138659 -----\n",
      "----- Epoch 26 validation loss: 0.12032052086522946 validation accuracy: 0.9702845100105381 -----\n",
      "--------- EPOCH 27 ---------\n",
      "----- Epoch 27 training loss: 0.058494060848294414 training accuracy: 0.9887515313509302 -----\n",
      "----- Epoch 27 validation loss: 0.1181178849674045 validation accuracy: 0.9708113804004221 -----\n",
      "--------- EPOCH 28 ---------\n",
      "----- Epoch 28 training loss: 0.054281899936466926 training accuracy: 0.9898652411181648 -----\n",
      "----- Epoch 28 validation loss: 0.11624417346185789 validation accuracy: 0.9711275026343525 -----\n",
      "--------- EPOCH 29 ---------\n",
      "----- Epoch 29 training loss: 0.05042954741000402 training accuracy: 0.9906448379552291 -----\n",
      "----- Epoch 29 validation loss: 0.11454865902017515 validation accuracy: 0.9712328767123294 -----\n",
      "--------- EPOCH 30 ---------\n",
      "----- Epoch 30 training loss: 0.04690121000204841 training accuracy: 0.9913687493039316 -----\n",
      "----- Epoch 30 validation loss: 0.113200190227228 validation accuracy: 0.9715489989462598 -----\n",
      "--------- EPOCH 31 ---------\n",
      "----- Epoch 31 training loss: 0.04366146737465453 training accuracy: 0.991702862234102 -----\n",
      "----- Epoch 31 validation loss: 0.1119756924892919 validation accuracy: 0.9716543730242366 -----\n",
      "--------- EPOCH 32 ---------\n",
      "----- Epoch 32 training loss: 0.04067921922665196 training accuracy: 0.9921483461409959 -----\n",
      "----- Epoch 32 validation loss: 0.1109831423086759 validation accuracy: 0.9721812434141207 -----\n",
      "--------- EPOCH 33 ---------\n",
      "----- Epoch 33 training loss: 0.03792837100118641 training accuracy: 0.9927052010246132 -----\n",
      "----- Epoch 33 validation loss: 0.11013051222096412 validation accuracy: 0.9721812434141207 -----\n",
      "--------- EPOCH 34 ---------\n",
      "----- Epoch 34 training loss: 0.035405645703488 training accuracy: 0.9933177413965922 -----\n",
      "----- Epoch 34 validation loss: 0.10946738586152116 validation accuracy: 0.9722866174920975 -----\n",
      "--------- EPOCH 35 ---------\n",
      "----- Epoch 35 training loss: 0.03306067422764921 training accuracy: 0.9935404833500392 -----\n",
      "----- Epoch 35 validation loss: 0.10883063621496639 validation accuracy: 0.9728134878819816 -----\n",
      "--------- EPOCH 36 ---------\n",
      "----- Epoch 36 training loss: 0.030905167609585706 training accuracy: 0.9940973382336564 -----\n",
      "----- Epoch 36 validation loss: 0.10844832240926246 validation accuracy: 0.9729188619599584 -----\n",
      "--------- EPOCH 37 ---------\n",
      "----- Epoch 37 training loss: 0.02889443859003666 training accuracy: 0.9944871366521886 -----\n",
      "----- Epoch 37 validation loss: 0.10800244534889666 validation accuracy: 0.9727081138040048 -----\n",
      "--------- EPOCH 38 ---------\n",
      "----- Epoch 38 training loss: 0.027044638008214307 training accuracy: 0.9949326205590825 -----\n",
      "----- Epoch 38 validation loss: 0.10789037214529414 validation accuracy: 0.9724973656480511 -----\n",
      "--------- EPOCH 39 ---------\n"
     ]
    },
    {
     "name": "stdout",
     "output_type": "stream",
     "text": [
      "----- Epoch 39 training loss: 0.02529688984722588 training accuracy: 0.9950996770241677 -----\n",
      "----- Epoch 39 validation loss: 0.10747143945773133 validation accuracy: 0.9727081138040048 -----\n",
      "--------- EPOCH 40 ---------\n",
      "----- Epoch 40 training loss: 0.023704612759657476 training accuracy: 0.9953781044659763 -----\n",
      "----- Epoch 40 validation loss: 0.10765943963510485 validation accuracy: 0.972602739726028 -----\n",
      "--------- EPOCH 41 ---------\n",
      "----- Epoch 41 training loss: 0.0221633573798122 training accuracy: 0.9959349593495936 -----\n",
      "----- Epoch 41 validation loss: 0.10736656544389776 validation accuracy: 0.9729188619599584 -----\n",
      "--------- EPOCH 42 ---------\n",
      "----- Epoch 42 training loss: 0.02076605909027924 training accuracy: 0.9966031852099344 -----\n",
      "----- Epoch 42 validation loss: 0.10775861378866607 validation accuracy: 0.9732349841938889 -----\n",
      "--------- EPOCH 43 ---------\n",
      "----- Epoch 43 training loss: 0.0194205803114247 training accuracy: 0.996881612651743 -----\n",
      "----- Epoch 43 validation loss: 0.10751166600071324 validation accuracy: 0.973129610115912 -----\n",
      "--------- EPOCH 44 ---------\n",
      "----- Epoch 44 training loss: 0.018208748724868114 training accuracy: 0.9970486691168282 -----\n",
      "----- Epoch 44 validation loss: 0.10802992609589217 validation accuracy: 0.9729188619599584 -----\n",
      "--------- EPOCH 45 ---------\n",
      "----- Epoch 45 training loss: 0.017026970193984473 training accuracy: 0.9972714110702752 -----\n",
      "----- Epoch 45 validation loss: 0.10782427429423058 validation accuracy: 0.9734457323498424 -----\n",
      "--------- EPOCH 46 ---------\n",
      "----- Epoch 46 training loss: 0.0159668894353317 training accuracy: 0.9974941530237221 -----\n",
      "----- Epoch 46 validation loss: 0.10846554358342053 validation accuracy: 0.9733403582718657 -----\n",
      "--------- EPOCH 47 ---------\n",
      "----- Epoch 47 training loss: 0.014928192130954391 training accuracy: 0.9976612094888073 -----\n",
      "----- Epoch 47 validation loss: 0.10830482262670277 validation accuracy: 0.9736564805057961 -----\n",
      "--------- EPOCH 48 ---------\n",
      "----- Epoch 48 training loss: 0.013997386882959002 training accuracy: 0.9977725804655307 -----\n",
      "----- Epoch 48 validation loss: 0.10885171329405588 validation accuracy: 0.9734457323498424 -----\n",
      "--------- EPOCH 49 ---------\n",
      "----- Epoch 49 training loss: 0.01309398700929402 training accuracy: 0.9979396369306159 -----\n",
      "----- Epoch 49 validation loss: 0.10907117262003549 validation accuracy: 0.9735511064278193 -----\n",
      "--------- EPOCH 50 ---------\n",
      "----- Epoch 50 training loss: 0.012238909949442538 training accuracy: 0.9981066933957011 -----\n",
      "----- Epoch 50 validation loss: 0.10984847810670124 validation accuracy: 0.9730242360379352 -----\n"
     ]
    }
   ],
   "source": [
    "train_eval_loss_epoch = list()\n",
    "train_eval_loss_batch = list()\n",
    "val_eval_loss_epoch = list()\n",
    "for epoch in range(1, num_epochs+1):\n",
    "    print(\"--------- EPOCH\", epoch, \"---------\")\n",
    "    train_epoch_acc = 0\n",
    "    train_epoch_loss = 0\n",
    "    val_epoch_acc = 0\n",
    "    val_epoch_loss = 0\n",
    "    \n",
    "    # train\n",
    "    train_epoch_acc, train_epoch_loss, train_eval_loss_batch = train(train_epoch_acc, train_epoch_loss, train_eval_loss_batch)\n",
    "    train_epoch_loss = train_epoch_loss/len(tokenized_train)\n",
    "    train_epoch_acc = train_epoch_acc/len(tokenized_train)\n",
    "    train_eval_loss_epoch.append(train_epoch_loss)\n",
    "    \n",
    "    # validation\n",
    "    val_epoch_acc, val_epoch_loss = test(val_epoch_acc, val_epoch_loss)\n",
    "    val_epoch_loss = val_epoch_loss/len(tokenized_validation)\n",
    "    val_epoch_acc = val_epoch_acc/len(tokenized_validation)\n",
    "    val_eval_loss_epoch.append(val_epoch_loss)\n",
    "    \n",
    "    print(\"----- Epoch\", epoch, \"training loss:\", train_epoch_loss, \"training accuracy:\", train_epoch_acc, \"-----\")\n",
    "    print(\"----- Epoch\", epoch, \"validation loss:\", val_epoch_loss, \"validation accuracy:\", val_epoch_acc, \"-----\")"
   ]
  },
  {
   "cell_type": "markdown",
   "metadata": {},
   "source": [
    "## Plotting Results"
   ]
  },
  {
   "cell_type": "code",
   "execution_count": 72,
   "metadata": {},
   "outputs": [
    {
     "data": {
      "text/plain": [
       "<function matplotlib.pyplot.show(close=None, block=None)>"
      ]
     },
     "execution_count": 72,
     "metadata": {},
     "output_type": "execute_result"
    },
    {
     "data": {
      "image/png": "[encoded data removed]",
      "text/plain": [
       "<Figure size 432x288 with 1 Axes>"
      ]
     },
     "metadata": {
      "needs_background": "light"
     },
     "output_type": "display_data"
    }
   ],
   "source": [
    "n_total_batches = len(train_eval_loss_batch)\n",
    "\n",
    "plt.plot(train_eval_loss_epoch, label=\"train loss\")\n",
    "plt.plot(val_eval_loss_epoch, label=\"validation loss\")\n",
    "\n",
    "plt.xlabel(\"Number of Epochs\")\n",
    "plt.ylabel(\"Cross Entropy Loss\")\n",
    "\n",
    "plt.title(\"Training on the \" + training_file[:-10] + \" dataset\")\n",
    "plt.legend()\n",
    "#plt.savefig(\"Plot_training_\" + training_file[:-10] + \"_dataset\")\n",
    "plt.show"
   ]
  }
 ],
 "metadata": {
  "kernelspec": {
   "display_name": "Valentina_Luisa",
   "language": "python",
   "name": "valentina_luisa"
  },
  "language_info": {
   "codemirror_mode": {
    "name": "ipython",
    "version": 3
   },
   "file_extension": ".py",
   "mimetype": "text/x-python",
   "name": "python",
   "nbconvert_exporter": "python",
   "pygments_lexer": "ipython3",
   "version": "3.8.5"
  }
 },
 "nbformat": 4,
 "nbformat_minor": 4
}
