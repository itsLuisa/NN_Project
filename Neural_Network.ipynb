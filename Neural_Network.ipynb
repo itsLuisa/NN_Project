{
 "cells": [
  {
   "cell_type": "markdown",
   "metadata": {},
   "source": [
    "# Neural Network"
   ]
  },
  {
   "cell_type": "markdown",
   "metadata": {},
   "source": [
    "This is the core of our project. For running this, you need to have created three accordingly formatted splits of the data by running these files from the repository:\n",
    "* preprocessing.sh\n",
    "* splitting_data.py\n",
    "\n",
    "You don't need to run the following files because this Notebook accesses them directly:\n",
    "* data_loading.py\n",
    "* tokenizer.py\n",
    "* embeddings.py"
   ]
  },
  {
   "cell_type": "markdown",
   "metadata": {},
   "source": [
    "## Imports"
   ]
  },
  {
   "cell_type": "code",
   "execution_count": 1,
   "metadata": {
    "scrolled": true
   },
   "outputs": [],
   "source": [
    "import datasets\n",
    "import transformers\n",
    "import torch\n",
    "import torch.nn as nn\n",
    "import torch.nn.functional as F\n",
    "import torch.optim as optim\n",
    "import matplotlib.pyplot as plt\n",
    "import random\n",
    "import numpy as np\n",
    "from tokenizer import tokenize_and_encode, encode_pos, initialize_tokenizer\n",
    "from embeddings import embedding_model, initialize_model"
   ]
  },
  {
   "cell_type": "markdown",
   "metadata": {},
   "source": [
    "## Data\n",
    "Please insert the names of the three splits below:"
   ]
  },
  {
   "cell_type": "code",
   "execution_count": 22,
   "metadata": {},
   "outputs": [],
   "source": [
    "training_file = \"medium_train.tsv\"\n",
    "validation_file = \"medium_val.tsv\"\n",
    "test_file = \"medium_test.tsv\""
   ]
  },
  {
   "cell_type": "markdown",
   "metadata": {},
   "source": [
    "## Loading the data"
   ]
  },
  {
   "cell_type": "code",
   "execution_count": 23,
   "metadata": {},
   "outputs": [
    {
     "name": "stderr",
     "output_type": "stream",
     "text": [
      "Using custom data configuration default-b465cfcaff33a7ec\n"
     ]
    },
    {
     "name": "stdout",
     "output_type": "stream",
     "text": [
      "Downloading and preparing dataset sample/default (download: Unknown size, generated: Unknown size, post-processed: Unknown size, total: Unknown size) to C:\\Users\\Luisa\\.cache\\huggingface\\datasets\\sample\\default-b465cfcaff33a7ec\\0.0.0\\a47856eba89262b97a9bfe6357cee71a0f0f52265edb14e72c8467526322efb5...\n"
     ]
    },
    {
     "data": {
      "application/vnd.jupyter.widget-view+json": {
       "model_id": "",
       "version_major": 2,
       "version_minor": 0
      },
      "text/plain": [
       "HBox(children=(FloatProgress(value=1.0, bar_style='info', layout=Layout(width='20px'), max=1.0), HTML(value=''…"
      ]
     },
     "metadata": {},
     "output_type": "display_data"
    },
    {
     "data": {
      "application/vnd.jupyter.widget-view+json": {
       "model_id": "",
       "version_major": 2,
       "version_minor": 0
      },
      "text/plain": [
       "HBox(children=(FloatProgress(value=1.0, bar_style='info', layout=Layout(width='20px'), max=1.0), HTML(value=''…"
      ]
     },
     "metadata": {},
     "output_type": "display_data"
    },
    {
     "data": {
      "application/vnd.jupyter.widget-view+json": {
       "model_id": "",
       "version_major": 2,
       "version_minor": 0
      },
      "text/plain": [
       "HBox(children=(FloatProgress(value=1.0, bar_style='info', layout=Layout(width='20px'), max=1.0), HTML(value=''…"
      ]
     },
     "metadata": {},
     "output_type": "display_data"
    },
    {
     "name": "stdout",
     "output_type": "stream",
     "text": [
      "Dataset sample downloaded and prepared to C:\\Users\\Luisa\\.cache\\huggingface\\datasets\\sample\\default-b465cfcaff33a7ec\\0.0.0\\a47856eba89262b97a9bfe6357cee71a0f0f52265edb14e72c8467526322efb5. Subsequent calls will reuse this data.\n"
     ]
    }
   ],
   "source": [
    "data_files = {\n",
    "            \"train\": training_file,\n",
    "            \"test\": test_file,\n",
    "            \"validation\": validation_file\n",
    "        }\n",
    "\n",
    "data_sets = datasets.load_dataset(\"data_loading.py\", data_files=data_files)"
   ]
  },
  {
   "cell_type": "markdown",
   "metadata": {},
   "source": [
    "## Tokenizing the data"
   ]
  },
  {
   "cell_type": "code",
   "execution_count": 24,
   "metadata": {},
   "outputs": [
    {
     "name": "stdout",
     "output_type": "stream",
     "text": [
      "{'input_ids': tensor([[  101,   138,  7721,  1590,  2492,   170,  1490,  2730,  1107,  1134,\n",
      "          1131,   100,  1123,  1711,  1105,  7252,  1103,  7703,  1104,  1117,\n",
      "         21870,   119,   102,     0,     0,     0,     0,     0,     0,     0,\n",
      "             0,     0,     0,     0,     0,     0,     0,     0,     0,     0,\n",
      "             0,     0,     0,     0,     0,     0,     0,     0,     0,     0,\n",
      "             0,     0,     0,     0,     0,     0,     0,     0,     0,     0,\n",
      "             0,     0,     0,     0,     0,     0,     0,     0,     0,     0,\n",
      "             0,     0,     0]]), 'token_type_ids': tensor([[0, 0, 0, 0, 0, 0, 0, 0, 0, 0, 0, 0, 0, 0, 0, 0, 0, 0, 0, 0, 0, 0, 0, 0,\n",
      "         0, 0, 0, 0, 0, 0, 0, 0, 0, 0, 0, 0, 0, 0, 0, 0, 0, 0, 0, 0, 0, 0, 0, 0,\n",
      "         0, 0, 0, 0, 0, 0, 0, 0, 0, 0, 0, 0, 0, 0, 0, 0, 0, 0, 0, 0, 0, 0, 0, 0,\n",
      "         0]]), 'attention_mask': tensor([[1, 1, 1, 1, 1, 1, 1, 1, 1, 1, 1, 1, 1, 1, 1, 1, 1, 1, 1, 1, 1, 1, 1, 0,\n",
      "         0, 0, 0, 0, 0, 0, 0, 0, 0, 0, 0, 0, 0, 0, 0, 0, 0, 0, 0, 0, 0, 0, 0, 0,\n",
      "         0, 0, 0, 0, 0, 0, 0, 0, 0, 0, 0, 0, 0, 0, 0, 0, 0, 0, 0, 0, 0, 0, 0, 0,\n",
      "         0]])}\n",
      "torch.Size([1, 73])\n",
      "{'input_ids': tensor([[101,  11,  16,  22,  42,  11,  22,  22,  15,  43,  28,  42,  29,  22,\n",
      "           9,  42,  11,  22,  15,  29,  25,   5, 102,   0,   0,   0,   0,   0,\n",
      "           0,   0,   0,   0,   0,   0,   0,   0,   0,   0,   0,   0,   0,   0,\n",
      "           0,   0,   0,   0,   0,   0,   0,   0,   0,   0,   0,   0,   0,   0,\n",
      "           0,   0,   0,   0,   0,   0,   0,   0,   0,   0,   0,   0,   0,   0,\n",
      "           0,   0,   0]]), 'token_type_ids': tensor([[0, 0, 0, 0, 0, 0, 0, 0, 0, 0, 0, 0, 0, 0, 0, 0, 0, 0, 0, 0, 0, 0, 0, 0,\n",
      "         0, 0, 0, 0, 0, 0, 0, 0, 0, 0, 0, 0, 0, 0, 0, 0, 0, 0, 0, 0, 0, 0, 0, 0,\n",
      "         0, 0, 0, 0, 0, 0, 0, 0, 0, 0, 0, 0, 0, 0, 0, 0, 0, 0, 0, 0, 0, 0, 0, 0,\n",
      "         0]]), 'attention_mask': tensor([[1, 1, 1, 1, 1, 1, 1, 1, 1, 1, 1, 1, 1, 1, 1, 1, 1, 1, 1, 1, 1, 1, 1, 0,\n",
      "         0, 0, 0, 0, 0, 0, 0, 0, 0, 0, 0, 0, 0, 0, 0, 0, 0, 0, 0, 0, 0, 0, 0, 0,\n",
      "         0, 0, 0, 0, 0, 0, 0, 0, 0, 0, 0, 0, 0, 0, 0, 0, 0, 0, 0, 0, 0, 0, 0, 0,\n",
      "         0]])}\n",
      "torch.Size([1, 73])\n"
     ]
    }
   ],
   "source": [
    "# initialize the tokenizer\n",
    "tz = initialize_tokenizer()\n",
    "\n",
    "# tokens\n",
    "tokenized_train = tokenize_and_encode(\"train\", data_sets, tz)\n",
    "tokenized_test = tokenize_and_encode(\"test\", data_sets, tz)\n",
    "tokenized_validation = tokenize_and_encode(\"validation\", data_sets, tz)\n",
    "# lists of dictionaries with keys: \"input_ids\", \"token_type_ids\", \"attention_mask\"\n",
    "\n",
    "# pos-tags\n",
    "pos_encoded_train = encode_pos(\"train\", data_sets, tz)\n",
    "pos_encoded_test = encode_pos(\"test\", data_sets, tz)\n",
    "pos_encoded_validation = encode_pos(\"validation\", data_sets, tz)\n",
    "\n",
    "print(tokenized_train[0]) # first sentence, tokenized\n",
    "print(tokenized_train[0][\"input_ids\"].shape)\n",
    "print(pos_encoded_train[0]) # first sentence, pos, tokenized\n",
    "print(pos_encoded_train[0][\"input_ids\"].shape)"
   ]
  },
  {
   "cell_type": "markdown",
   "metadata": {},
   "source": [
    "## Embeddings\n",
    "!Attention: This might take a while!\n",
    "\n",
    "Run time on small.tsv: ~$2\\frac{1}{2}$ minutes <br>\n",
    "Est. Run time on medium.tsv: 25 minutes <br>\n",
    "Est. Run time on big.tsv: 4 hours 10 minutes <br>\n",
    "Est. Run time on original.tsv: 8 hours 20 minutes"
   ]
  },
  {
   "cell_type": "code",
   "execution_count": 25,
   "metadata": {},
   "outputs": [
    {
     "name": "stdout",
     "output_type": "stream",
     "text": [
      "tensor([[[-0.0436,  0.2515, -0.2050,  ..., -0.1305,  0.3815,  0.4437],\n",
      "         [ 0.4131, -0.6782,  0.7109,  ...,  0.2691,  0.7233,  0.0436],\n",
      "         [ 0.1060, -0.4957, -0.0068,  ...,  0.2639,  0.7863,  0.1481],\n",
      "         ...,\n",
      "         [-0.3734, -0.3053, -0.1967,  ..., -0.6291,  0.6752,  0.5565],\n",
      "         [-0.4191, -0.3896, -0.2305,  ..., -0.6712,  0.6959,  0.6134],\n",
      "         [-0.4102, -0.4059, -0.1413,  ..., -0.7709,  0.7231,  0.5648]]])\n",
      "torch.Size([1, 73, 768])\n"
     ]
    }
   ],
   "source": [
    "embedded_train = list()\n",
    "embedded_val = list()\n",
    "embedded_test = list()\n",
    "\n",
    "model = initialize_model()\n",
    "for sentence in tokenized_train:\n",
    "    embedding = embedding_model(model, sentence[\"input_ids\"])\n",
    "    embedded_train.append(embedding[\"last_hidden_state\"])\n",
    "# shape of embedded sentence = [1,73,768]\n",
    "for sentence in tokenized_validation:\n",
    "    embedding = embedding_model(model, sentence[\"input_ids\"])\n",
    "    embedded_val.append(embedding[\"last_hidden_state\"])\n",
    "for sentence in tokenized_test:\n",
    "    embedding = embedding_model(model, sentence[\"input_ids\"])\n",
    "    embedded_test.append(embedding[\"last_hidden_state\"])\n",
    "\n",
    "print(embedded_train[0]) # first sentence, embedded\n",
    "print(embedded_train[0].shape)"
   ]
  },
  {
   "cell_type": "markdown",
   "metadata": {},
   "source": [
    "## Defining Hyperparameters"
   ]
  },
  {
   "cell_type": "code",
   "execution_count": 48,
   "metadata": {},
   "outputs": [],
   "source": [
    "# changeable\n",
    "num_layers = 2\n",
    "hidden_size = 128 # try 128\n",
    "learning_rate = 0.00001\n",
    "batch_size = 64\n",
    "num_epochs = 30\n",
    "\n",
    "# fixed\n",
    "input_size = 768\n",
    "sequence_length = 73\n",
    "num_classes = 103"
   ]
  },
  {
   "cell_type": "markdown",
   "metadata": {},
   "source": [
    "## Setting Seeds"
   ]
  },
  {
   "cell_type": "code",
   "execution_count": 49,
   "metadata": {},
   "outputs": [],
   "source": [
    "SEED = 1\n",
    "\n",
    "random.seed(SEED)\n",
    "np.random.seed(SEED)\n",
    "torch.manual_seed(SEED)\n",
    "torch.backends.cudnn.deterministic = True\n",
    "\n",
    "device = torch.device(\"cuda\" if torch.cuda.is_available() else \"cpu\")"
   ]
  },
  {
   "cell_type": "markdown",
   "metadata": {},
   "source": [
    "## Network architecture\n",
    "For the architecture of the network, we decided to go for an LSTM because it work well for sequence processing while at the same time handling vanishing and exploding gradients better than a regular RNN.<br>"
   ]
  },
  {
   "cell_type": "code",
   "execution_count": 50,
   "metadata": {},
   "outputs": [],
   "source": [
    "class LSTM(nn.Module):\n",
    "    def __init__(self, input_size, hidden_size, num_layers, num_classes):\n",
    "        super(LSTM, self).__init__()\n",
    "        self.hidden_size = hidden_size\n",
    "        self.num_layers = num_layers\n",
    "        self.lstm = nn.LSTM(input_size, hidden_size, num_layers)\n",
    "        self.fc = nn.Linear(hidden_size, num_classes)\n",
    "        \n",
    "    def forward(self, x):\n",
    "        h0 = torch.zeros(self.num_layers, x.size(1), self.hidden_size).to(device)\n",
    "        c0 = torch.zeros(self.num_layers, x.size(1), self.hidden_size).to(device)\n",
    "        \n",
    "        out, _ = self.lstm(x, (h0,c0))\n",
    "        out = self.fc(out.view(sequence_length, -1))\n",
    "        out = F.log_softmax(out, dim=1)\n",
    "        return out"
   ]
  },
  {
   "cell_type": "markdown",
   "metadata": {},
   "source": [
    "## Model instantiation"
   ]
  },
  {
   "cell_type": "code",
   "execution_count": 51,
   "metadata": {},
   "outputs": [],
   "source": [
    "model = LSTM(input_size, hidden_size, num_layers, num_classes).to(device)\n",
    "criterion = nn.CrossEntropyLoss()\n",
    "#criterion = nn.NLLLoss()\n",
    "optimizer = optim.Adam(model.parameters(), lr=learning_rate)\n",
    "#optimizer = optim.SGD(model.parameters(), lr=learning_rate)\n",
    "#optimizer = optim.SGD(model.parameters(), lr=learning_rate, momentum=0.5)"
   ]
  },
  {
   "cell_type": "markdown",
   "metadata": {},
   "source": [
    "## Training"
   ]
  },
  {
   "cell_type": "code",
   "execution_count": 52,
   "metadata": {},
   "outputs": [],
   "source": [
    "def train(epoch_acc, epoch_loss, eval_loss_batch):\n",
    "    for batch_idx, sentence in enumerate(tokenized_train):\n",
    "        model.zero_grad()\n",
    "        target = pos_encoded_train[batch_idx][\"input_ids\"]\n",
    "        target = target[0]\n",
    "        \n",
    "        # do embeddings\n",
    "        #embedded = embedding_model(sentence[\"input_ids\"])\n",
    "        #input_sentence = embedded[\"last_hidden_state\"]\n",
    "        input_sentence = embedded_train[batch_idx]\n",
    "        \n",
    "        # feed into model\n",
    "        scores = model(input_sentence)\n",
    "        _, predicted = torch.max(scores, 1)\n",
    "    \n",
    "        # loss\n",
    "        loss = criterion(scores, target)\n",
    "        eval_loss_batch.append(loss.item())\n",
    "        epoch_loss += loss.item()\n",
    "        \n",
    "        # accuracy\n",
    "        right = 0\n",
    "        for n, tag in enumerate(predicted):\n",
    "            if tag == target[n]:\n",
    "                right += 1\n",
    "        acc = right / len(predicted)\n",
    "        epoch_acc += acc\n",
    "        \n",
    "        # print info\n",
    "        #print(\"batch loss:\", loss.item(), \"\\tbatch accuracy:\", acc)\n",
    "        \n",
    "        # backpropagate\n",
    "        loss.backward()\n",
    "        optimizer.step()\n",
    "        \n",
    "    return epoch_acc, epoch_loss, eval_loss_batch"
   ]
  },
  {
   "cell_type": "markdown",
   "metadata": {},
   "source": [
    "## Validation"
   ]
  },
  {
   "cell_type": "code",
   "execution_count": 53,
   "metadata": {},
   "outputs": [],
   "source": [
    "def test(epoch_acc, epoch_loss):\n",
    "    for batch_idx, sentence in enumerate(tokenized_validation):\n",
    "        target = pos_encoded_validation[batch_idx][\"input_ids\"]\n",
    "        target = target[0]\n",
    "        \n",
    "        # do embeddings\n",
    "        #embedded = embedding_model(sentence[\"input_ids\"])\n",
    "        #input_sentence = embedded[\"last_hidden_state\"]\n",
    "        input_sentence = embedded_val[batch_idx]\n",
    "        \n",
    "        # feed into model\n",
    "        scores = model(input_sentence)\n",
    "        _, predicted = torch.max(scores, 1)\n",
    "        \n",
    "        # loss\n",
    "        loss = criterion(scores, target)\n",
    "        epoch_loss += loss.item()\n",
    "        \n",
    "        # accuracy\n",
    "        right = 0\n",
    "        for n, tag in enumerate(predicted):\n",
    "            if tag == target[n]:\n",
    "                right += 1\n",
    "        acc = right / len(predicted)\n",
    "        epoch_acc += acc  \n",
    "        \n",
    "    return epoch_acc, epoch_loss"
   ]
  },
  {
   "cell_type": "markdown",
   "metadata": {},
   "source": [
    "## Run Training and Validation"
   ]
  },
  {
   "cell_type": "code",
   "execution_count": null,
   "metadata": {},
   "outputs": [
    {
     "name": "stdout",
     "output_type": "stream",
     "text": [
      "--------- EPOCH 1 ---------\n",
      "----- Epoch 1 training loss: 2.4784362801908166 training accuracy: 0.6670650081532415 -----\n",
      "----- Epoch 1 validation loss: 1.4908815056273022 validation accuracy: 0.6829991753744632 -----\n",
      "--------- EPOCH 2 ---------\n",
      "----- Epoch 2 training loss: 1.2539734258690667 training accuracy: 0.6983004750663686 -----\n",
      "----- Epoch 2 validation loss: 1.1767149907666503 validation accuracy: 0.6829499439993079 -----\n",
      "--------- EPOCH 3 ---------\n",
      "----- Epoch 3 training loss: 0.9785461892250991 training accuracy: 0.7593350248129392 -----\n",
      "----- Epoch 3 validation loss: 0.9702179544644642 validation accuracy: 0.7884897044886656 -----\n",
      "--------- EPOCH 4 ---------\n",
      "----- Epoch 4 training loss: 0.820492413149507 training accuracy: 0.8232482295388782 -----\n",
      "----- Epoch 4 validation loss: 0.8404811371087707 validation accuracy: 0.8088345702716276 -----\n",
      "--------- EPOCH 5 ---------\n",
      "----- Epoch 5 training loss: 0.7001000169214769 training accuracy: 0.8419447698547625 -----\n",
      "----- Epoch 5 validation loss: 0.7273576924676094 validation accuracy: 0.8278378810816056 -----\n",
      "--------- EPOCH 6 ---------\n",
      "----- Epoch 6 training loss: 0.5943645670998811 training accuracy: 0.8598819103908164 -----\n",
      "----- Epoch 6 validation loss: 0.6332443041638249 validation accuracy: 0.8414626641558594 -----\n",
      "--------- EPOCH 7 ---------\n",
      "----- Epoch 7 training loss: 0.5068756005537448 training accuracy: 0.8770714247870324 -----\n",
      "----- Epoch 7 validation loss: 0.5581963530792675 validation accuracy: 0.8569090081108606 -----\n",
      "--------- EPOCH 8 ---------\n",
      "----- Epoch 8 training loss: 0.4374679510890285 training accuracy: 0.8941314291432806 -----\n",
      "----- Epoch 8 validation loss: 0.4979791398237979 validation accuracy: 0.8757523169515858 -----\n",
      "--------- EPOCH 9 ---------\n",
      "----- Epoch 9 training loss: 0.3813539463630467 training accuracy: 0.9098315780798223 -----\n",
      "----- Epoch 9 validation loss: 0.4470136521178275 validation accuracy: 0.892060209971807 -----\n",
      "--------- EPOCH 10 ---------\n",
      "----- Epoch 10 training loss: 0.3344730851902828 training accuracy: 0.9230239416969174 -----\n",
      "----- Epoch 10 validation loss: 0.4028183585191807 validation accuracy: 0.9063865401420235 -----\n",
      "--------- EPOCH 11 ---------\n",
      "----- Epoch 11 training loss: 0.29478585628330783 training accuracy: 0.934550335254382 -----\n",
      "----- Epoch 11 validation loss: 0.36460746059015137 validation accuracy: 0.9175866779898741 -----\n",
      "--------- EPOCH 12 ---------\n",
      "----- Epoch 12 training loss: 0.2612557490870555 training accuracy: 0.9431097715324965 -----\n",
      "----- Epoch 12 validation loss: 0.33203155028417053 validation accuracy: 0.9248606136690822 -----\n",
      "--------- EPOCH 13 ---------\n",
      "----- Epoch 13 training loss: 0.23329612688246681 training accuracy: 0.9492085170511569 -----\n",
      "----- Epoch 13 validation loss: 0.3047427007433124 validation accuracy: 0.9301652943420751 -----\n",
      "--------- EPOCH 14 ---------\n",
      "----- Epoch 14 training loss: 0.21024893337022632 training accuracy: 0.9540533699100919 -----\n",
      "----- Epoch 14 validation loss: 0.28195290695432396 validation accuracy: 0.9347068887001598 -----\n",
      "--------- EPOCH 15 ---------\n",
      "----- Epoch 15 training loss: 0.1912523968380183 training accuracy: 0.9585626740291019 -----\n",
      "----- Epoch 15 validation loss: 0.2627801111650796 validation accuracy: 0.9387930928380559 -----\n",
      "--------- EPOCH 16 ---------\n",
      "----- Epoch 16 training loss: 0.17546125502554924 training accuracy: 0.9619652559883525 -----\n",
      "----- Epoch 16 validation loss: 0.24645541793008244 validation accuracy: 0.9424362145995554 -----\n",
      "--------- EPOCH 17 ---------\n",
      "----- Epoch 17 training loss: 0.1621707987909169 training accuracy: 0.9650734969476688 -----\n",
      "----- Epoch 17 validation loss: 0.2323803607117542 validation accuracy: 0.9454393284840333 -----\n",
      "--------- EPOCH 18 ---------\n",
      "----- Epoch 18 training loss: 0.1508541738227823 training accuracy: 0.9674105644871551 -----\n",
      "----- Epoch 18 validation loss: 0.22013711911456296 validation accuracy: 0.9477408952725471 -----\n",
      "--------- EPOCH 19 ---------\n",
      "----- Epoch 19 training loss: 0.14112859725016424 training accuracy: 0.969317894166736 -----\n",
      "----- Epoch 19 validation loss: 0.20941353727446707 validation accuracy: 0.9499439993107502 -----\n",
      "--------- EPOCH 20 ---------\n",
      "----- Epoch 20 training loss: 0.13270361407049205 training accuracy: 0.9707012968664314 -----\n",
      "----- Epoch 20 validation loss: 0.19995730088794436 validation accuracy: 0.9517655601914986 -----\n",
      "--------- EPOCH 21 ---------\n",
      "----- Epoch 21 training loss: 0.1253468842518992 training accuracy: 0.9719022081461685 -----\n",
      "----- Epoch 21 validation loss: 0.19156359417927982 validation accuracy: 0.9531932700710056 -----\n",
      "--------- EPOCH 22 ---------\n"
     ]
    }
   ],
   "source": [
    "train_eval_loss_epoch = list()\n",
    "train_eval_loss_batch = list()\n",
    "val_eval_loss_epoch = list()\n",
    "for epoch in range(1, num_epochs+1):\n",
    "    print(\"--------- EPOCH\", epoch, \"---------\")\n",
    "    train_epoch_acc = 0\n",
    "    train_epoch_loss = 0\n",
    "    val_epoch_acc = 0\n",
    "    val_epoch_loss = 0\n",
    "    \n",
    "    # train\n",
    "    train_epoch_acc, train_epoch_loss, train_eval_loss_batch = train(train_epoch_acc, train_epoch_loss, train_eval_loss_batch)\n",
    "    train_epoch_loss = train_epoch_loss/len(tokenized_train)\n",
    "    train_epoch_acc = train_epoch_acc/len(tokenized_train)\n",
    "    train_eval_loss_epoch.append(train_epoch_loss)\n",
    "    \n",
    "    # validation\n",
    "    val_epoch_acc, val_epoch_loss = test(val_epoch_acc, val_epoch_loss)\n",
    "    val_epoch_loss = val_epoch_loss/len(tokenized_validation)\n",
    "    val_epoch_acc = val_epoch_acc/len(tokenized_validation)\n",
    "    val_eval_loss_epoch.append(val_epoch_loss)\n",
    "    \n",
    "    print(\"----- Epoch\", epoch, \"training loss:\", train_epoch_loss, \"training accuracy:\", train_epoch_acc, \"-----\")\n",
    "    print(\"----- Epoch\", epoch, \"validation loss:\", val_epoch_loss, \"validation accuracy:\", val_epoch_acc, \"-----\")"
   ]
  },
  {
   "cell_type": "markdown",
   "metadata": {},
   "source": [
    "## Plotting Results"
   ]
  },
  {
   "cell_type": "code",
   "execution_count": 33,
   "metadata": {},
   "outputs": [
    {
     "data": {
      "text/plain": [
       "<function matplotlib.pyplot.show(close=None, block=None)>"
      ]
     },
     "execution_count": 33,
     "metadata": {},
     "output_type": "execute_result"
    },
    {
     "data": {
      "image/png": "[encoded data removed]",
      "text/plain": [
       "<Figure size 432x288 with 1 Axes>"
      ]
     },
     "metadata": {
      "needs_background": "light"
     },
     "output_type": "display_data"
    }
   ],
   "source": [
    "n_total_batches = len(train_eval_loss_batch)\n",
    "\n",
    "plt.plot(train_eval_loss_epoch, label=\"train loss\")\n",
    "plt.plot(val_eval_loss_epoch, label=\"validation loss\")\n",
    "\n",
    "plt.xlabel(\"Number of Epochs\")\n",
    "plt.ylabel(\"Cross Entropy Loss\")\n",
    "\n",
    "plt.title(\"Training on the \" + training_file[:-10] + \" dataset\")\n",
    "plt.legend()\n",
    "#plt.savefig(\"Plot_training_\" + training_file[:-10] + \"_dataset\")\n",
    "plt.show"
   ]
  },
  {
   "cell_type": "code",
   "execution_count": null,
   "metadata": {},
   "outputs": [],
   "source": []
  }
 ],
 "metadata": {
  "kernelspec": {
   "display_name": "Valentina_Luisa",
   "language": "python",
   "name": "valentina_luisa"
  },
  "language_info": {
   "codemirror_mode": {
    "name": "ipython",
    "version": 3
   },
   "file_extension": ".py",
   "mimetype": "text/x-python",
   "name": "python",
   "nbconvert_exporter": "python",
   "pygments_lexer": "ipython3",
   "version": "3.8.5"
  }
 },
 "nbformat": 4,
 "nbformat_minor": 4
}
