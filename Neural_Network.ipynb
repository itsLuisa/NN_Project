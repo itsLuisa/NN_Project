{
 "cells": [
  {
   "cell_type": "markdown",
   "metadata": {},
   "source": [
    "# Neural Network"
   ]
  },
  {
   "cell_type": "markdown",
   "metadata": {},
   "source": [
    "This is the core of our project. For running this, you need to have created three accordingly formatted splits of the data by running these files from the repository:\n",
    "* preprocessing.sh\n",
    "* splitting_data.py\n",
    "\n",
    "You don't need to run the following files because this Notebook accesses them directly:\n",
    "* data_loading.py\n",
    "* tokenizer.py\n",
    "* embeddings.py"
   ]
  },
  {
   "cell_type": "markdown",
   "metadata": {},
   "source": [
    "## Imports"
   ]
  },
  {
   "cell_type": "code",
   "execution_count": 49,
   "metadata": {
    "scrolled": true
   },
   "outputs": [],
   "source": [
    "import datasets\n",
    "import transformers\n",
    "import torch\n",
    "import torch.nn as nn\n",
    "import torch.nn.functional as F\n",
    "import torch.optim as optim\n",
    "import matplotlib.pyplot as plt\n",
    "import random\n",
    "import numpy as np\n",
    "from tokenizer import tokenize_and_encode, encode_pos\n",
    "from embeddings import embedding_model"
   ]
  },
  {
   "cell_type": "markdown",
   "metadata": {},
   "source": [
    "## Data\n",
    "Please insert the names of the three splits below:"
   ]
  },
  {
   "cell_type": "code",
   "execution_count": 205,
   "metadata": {},
   "outputs": [],
   "source": [
    "training_file = \"middle_train.tsv\"\n",
    "validation_file = \"middle_val.tsv\"\n",
    "test_file = \"middle_test.tsv\""
   ]
  },
  {
   "cell_type": "markdown",
   "metadata": {},
   "source": [
    "## Loading the data"
   ]
  },
  {
   "cell_type": "code",
   "execution_count": 206,
   "metadata": {},
   "outputs": [
    {
     "name": "stderr",
     "output_type": "stream",
     "text": [
      "Using custom data configuration default-0715ccd4c03216d1\n",
      "Reusing dataset sample (C:\\Users\\Luisa\\.cache\\huggingface\\datasets\\sample\\default-0715ccd4c03216d1\\0.0.0\\cd100589429990ebe2c7713d0ebc54a510b4404ae27f91b9fd14d9da132fa4be)\n"
     ]
    }
   ],
   "source": [
    "data_files = {\n",
    "            \"train\": training_file,\n",
    "            \"test\": test_file,\n",
    "            \"validation\": validation_file\n",
    "        }\n",
    "\n",
    "data_sets = datasets.load_dataset(\"data_loading.py\", data_files=data_files)"
   ]
  },
  {
   "cell_type": "markdown",
   "metadata": {},
   "source": [
    "## Tokenizing the data"
   ]
  },
  {
   "cell_type": "code",
   "execution_count": 207,
   "metadata": {},
   "outputs": [
    {
     "name": "stdout",
     "output_type": "stream",
     "text": [
      "{'input_ids': tensor([[  101,   138,  7721,  1590,  2492,   170,  1490,  2730,  1107,  1134,\n",
      "          1131,   182,  6334,  2316,  1123,  1711,  1105,  7252,  1103,  7703,\n",
      "          1104,  1117, 21870,   119,   102,     0,     0,     0,     0,     0,\n",
      "             0,     0,     0,     0,     0,     0,     0,     0,     0,     0,\n",
      "             0,     0,     0,     0,     0,     0,     0,     0,     0,     0,\n",
      "             0,     0,     0,     0,     0,     0,     0,     0,     0,     0,\n",
      "             0,     0,     0,     0,     0,     0,     0,     0,     0,     0,\n",
      "             0,     0,     0]]), 'token_type_ids': tensor([[0, 0, 0, 0, 0, 0, 0, 0, 0, 0, 0, 0, 0, 0, 0, 0, 0, 0, 0, 0, 0, 0, 0, 0,\n",
      "         0, 0, 0, 0, 0, 0, 0, 0, 0, 0, 0, 0, 0, 0, 0, 0, 0, 0, 0, 0, 0, 0, 0, 0,\n",
      "         0, 0, 0, 0, 0, 0, 0, 0, 0, 0, 0, 0, 0, 0, 0, 0, 0, 0, 0, 0, 0, 0, 0, 0,\n",
      "         0]]), 'attention_mask': tensor([[1, 1, 1, 1, 1, 1, 1, 1, 1, 1, 1, 1, 1, 1, 1, 1, 1, 1, 1, 1, 1, 1, 1, 1,\n",
      "         1, 0, 0, 0, 0, 0, 0, 0, 0, 0, 0, 0, 0, 0, 0, 0, 0, 0, 0, 0, 0, 0, 0, 0,\n",
      "         0, 0, 0, 0, 0, 0, 0, 0, 0, 0, 0, 0, 0, 0, 0, 0, 0, 0, 0, 0, 0, 0, 0, 0,\n",
      "         0]])}\n",
      "torch.Size([1, 73])\n",
      "{'input_ids': tensor([[101,  11,  16,  22,  42,  11,  22,  22,  15,  43,  28,  42,  29,  22,\n",
      "           9,  42,  11,  22,  15,  29,  25,   5, 102,   0,   0,   0,   0,   0,\n",
      "           0,   0,   0,   0,   0,   0,   0,   0,   0,   0,   0,   0,   0,   0,\n",
      "           0,   0,   0,   0,   0,   0,   0,   0,   0,   0,   0,   0,   0,   0,\n",
      "           0,   0,   0,   0,   0,   0,   0,   0,   0,   0,   0,   0,   0,   0,\n",
      "           0,   0,   0]]), 'token_type_ids': tensor([[0, 0, 0, 0, 0, 0, 0, 0, 0, 0, 0, 0, 0, 0, 0, 0, 0, 0, 0, 0, 0, 0, 0, 0,\n",
      "         0, 0, 0, 0, 0, 0, 0, 0, 0, 0, 0, 0, 0, 0, 0, 0, 0, 0, 0, 0, 0, 0, 0, 0,\n",
      "         0, 0, 0, 0, 0, 0, 0, 0, 0, 0, 0, 0, 0, 0, 0, 0, 0, 0, 0, 0, 0, 0, 0, 0,\n",
      "         0]]), 'attention_mask': tensor([[1, 1, 1, 1, 1, 1, 1, 1, 1, 1, 1, 1, 1, 1, 1, 1, 1, 1, 1, 1, 1, 1, 1, 0,\n",
      "         0, 0, 0, 0, 0, 0, 0, 0, 0, 0, 0, 0, 0, 0, 0, 0, 0, 0, 0, 0, 0, 0, 0, 0,\n",
      "         0, 0, 0, 0, 0, 0, 0, 0, 0, 0, 0, 0, 0, 0, 0, 0, 0, 0, 0, 0, 0, 0, 0, 0,\n",
      "         0]])}\n",
      "torch.Size([1, 73])\n"
     ]
    }
   ],
   "source": [
    "# tokens\n",
    "tokenized_train = tokenize_and_encode(\"train\", data_sets)\n",
    "tokenized_test = tokenize_and_encode(\"test\", data_sets)\n",
    "tokenized_validation = tokenize_and_encode(\"validation\", data_sets)\n",
    "# lists of dictionaries with keys: \"input_ids\", \"token_type_ids\", \"attention_mask\"\n",
    "\n",
    "# pos-tags\n",
    "pos_encoded_train = encode_pos(\"train\", data_sets)\n",
    "pos_encoded_test = encode_pos(\"test\", data_sets)\n",
    "pos_encoded_validation = encode_pos(\"validation\", data_sets)\n",
    "\n",
    "print(tokenized_train[0]) # first sentence, tokenized\n",
    "print(tokenized_train[0][\"input_ids\"].shape)\n",
    "print(pos_encoded_train[0]) # first sentence, pos, tokenized\n",
    "print(pos_encoded_train[0][\"input_ids\"].shape)"
   ]
  },
  {
   "cell_type": "markdown",
   "metadata": {},
   "source": [
    "## Embeddings\n",
    "!Attention: This might take a while!"
   ]
  },
  {
   "cell_type": "code",
   "execution_count": null,
   "metadata": {},
   "outputs": [],
   "source": [
    "embedded_train = list()\n",
    "embedded_val = list()\n",
    "embedded_test = list()\n",
    "for sentence in tokenized_train:\n",
    "    embedding = embedding_model(sentence[\"input_ids\"])\n",
    "    embedded_train.append(embedding[\"last_hidden_state\"])\n",
    "# shape of embedded sentence = [1,73,768]\n",
    "for sentence in tokenized_validation:\n",
    "    embedding = embedding_model(sentence[\"input_ids\"])\n",
    "    embedded_val.append(embedding[\"last_hidden_state\"])\n",
    "for sentence in tokenized_test:\n",
    "    embedding = embedding_model(sentence[\"input_ids\"])\n",
    "    embedded_test.append(embedding[\"last_hidden_state\"])"
   ]
  },
  {
   "cell_type": "markdown",
   "metadata": {},
   "source": [
    "## Defining Hyperparameters"
   ]
  },
  {
   "cell_type": "code",
   "execution_count": 197,
   "metadata": {},
   "outputs": [],
   "source": [
    "# changeable\n",
    "num_layers = 2\n",
    "hidden_size = 128 # try 128\n",
    "learning_rate = 0.00001\n",
    "batch_size = 64\n",
    "num_epochs = 20\n",
    "\n",
    "# fixed\n",
    "input_size = 768\n",
    "sequence_length = 73\n",
    "num_classes = 103"
   ]
  },
  {
   "cell_type": "markdown",
   "metadata": {},
   "source": [
    "## Setting Seeds"
   ]
  },
  {
   "cell_type": "code",
   "execution_count": 198,
   "metadata": {},
   "outputs": [],
   "source": [
    "SEED = 1\n",
    "\n",
    "random.seed(SEED)\n",
    "np.random.seed(SEED)\n",
    "torch.manual_seed(SEED)\n",
    "torch.backends.cudnn.deterministic = True\n",
    "\n",
    "device = torch.device(\"cuda\" if torch.cuda.is_available() else \"cpu\")"
   ]
  },
  {
   "cell_type": "markdown",
   "metadata": {},
   "source": [
    "## Network architecture\n",
    "For the architecture of the network, we decided to go for an LSTM because it work well for sequence processing while at the same time handling vanishing and exploding gradients better than a regular RNN.<br>"
   ]
  },
  {
   "cell_type": "code",
   "execution_count": 199,
   "metadata": {},
   "outputs": [],
   "source": [
    "class LSTM(nn.Module):\n",
    "    def __init__(self, input_size, hidden_size, num_layers, num_classes):\n",
    "        super(LSTM, self).__init__()\n",
    "        self.hidden_size = hidden_size\n",
    "        self.num_layers = num_layers\n",
    "        self.lstm = nn.LSTM(input_size, hidden_size, num_layers)\n",
    "        self.fc = nn.Linear(hidden_size, num_classes)\n",
    "        \n",
    "    def forward(self, x):\n",
    "        h0 = torch.zeros(self.num_layers, x.size(1), self.hidden_size).to(device)\n",
    "        c0 = torch.zeros(self.num_layers, x.size(1), self.hidden_size).to(device)\n",
    "        \n",
    "        out, _ = self.lstm(x, (h0,c0))\n",
    "        out = self.fc(out.view(sequence_length, -1))\n",
    "        out = F.log_softmax(out, dim=1)\n",
    "        return out"
   ]
  },
  {
   "cell_type": "markdown",
   "metadata": {},
   "source": [
    "## Model instantiation"
   ]
  },
  {
   "cell_type": "code",
   "execution_count": 200,
   "metadata": {},
   "outputs": [],
   "source": [
    "model = LSTM(input_size, hidden_size, num_layers, num_classes).to(device)\n",
    "criterion = nn.CrossEntropyLoss()\n",
    "#criterion = nn.NLLLoss()\n",
    "optimizer = optim.Adam(model.parameters(), lr=learning_rate)\n",
    "#optimizer = optim.SGD(model.parameters(), lr=learning_rate)\n",
    "#optimizer = optim.SGD(model.parameters(), lr=learning_rate, momentum=0.5)"
   ]
  },
  {
   "cell_type": "markdown",
   "metadata": {},
   "source": [
    "## Training loop"
   ]
  },
  {
   "cell_type": "code",
   "execution_count": 201,
   "metadata": {},
   "outputs": [],
   "source": [
    "def train(epoch_acc, epoch_loss, eval_loss_batch):\n",
    "    for batch_idx, sentence in enumerate(tokenized_train):\n",
    "        target = pos_encoded_train[batch_idx][\"input_ids\"]\n",
    "        target = target[0]\n",
    "        \n",
    "        # do embeddings\n",
    "        #embedded = embedding_model(sentence[\"input_ids\"])\n",
    "        #input_sentence = embedded[\"last_hidden_state\"]\n",
    "        input_sentence = embedded_train[batch_idx]\n",
    "        \n",
    "        # feed into model\n",
    "        scores = model(input_sentence)\n",
    "        _, predicted = torch.max(scores, 1)\n",
    "    \n",
    "        # loss\n",
    "        loss = criterion(scores, target)\n",
    "        eval_loss_batch.append(loss.item())\n",
    "        epoch_loss += loss.item()\n",
    "        \n",
    "        # accuracy\n",
    "        right = 0\n",
    "        for n, tag in enumerate(predicted):\n",
    "            if tag == target[n]:\n",
    "                right += 1\n",
    "        acc = right / len(predicted)\n",
    "        epoch_acc += acc\n",
    "        \n",
    "        # print info\n",
    "        #print(\"batch loss:\", loss.item(), \"\\tbatch accuracy:\", acc)\n",
    "        \n",
    "        # backpropagate\n",
    "        loss.backward()\n",
    "        optimizer.step()\n",
    "        \n",
    "    return epoch_acc, epoch_loss, eval_loss_batch"
   ]
  },
  {
   "cell_type": "markdown",
   "metadata": {},
   "source": [
    "## Testing"
   ]
  },
  {
   "cell_type": "code",
   "execution_count": 202,
   "metadata": {},
   "outputs": [],
   "source": [
    "def test(epoch_acc, epoch_loss):\n",
    "    for batch_idx, sentence in enumerate(tokenized_validation):\n",
    "        target = pos_encoded_train[batch_idx][\"input_ids\"]\n",
    "        target = target[0]\n",
    "        \n",
    "        # do embeddings\n",
    "        #embedded = embedding_model(sentence[\"input_ids\"])\n",
    "        #input_sentence = embedded[\"last_hidden_state\"]\n",
    "        input_sentence = embedded_val[batch_idx]\n",
    "        \n",
    "        # feed into model\n",
    "        scores = model(input_sentence)\n",
    "        _, predicted = torch.max(scores, 1)\n",
    "        \n",
    "        # loss\n",
    "        loss = criterion(scores, target)\n",
    "        epoch_loss += loss.item()\n",
    "        \n",
    "        # accuracy\n",
    "        right = 0\n",
    "        for n, tag in enumerate(predicted):\n",
    "            if tag == target[n]:\n",
    "                right += 1\n",
    "        acc = right / len(predicted)\n",
    "        epoch_acc += acc  \n",
    "        \n",
    "    return epoch_acc, epoch_loss"
   ]
  },
  {
   "cell_type": "markdown",
   "metadata": {},
   "source": [
    "## Run Training and Validation"
   ]
  },
  {
   "cell_type": "code",
   "execution_count": 203,
   "metadata": {},
   "outputs": [
    {
     "name": "stdout",
     "output_type": "stream",
     "text": [
      "--------- EPOCH 1 ---------\n",
      "----- Epoch 1 training loss: 4.511900506121047 training accuracy: 0.4654619644418538 -----\n",
      "----- Epoch 1 validation loss: 4.43102283867038 validation accuracy: 0.5482247693597987 -----\n",
      "--------- EPOCH 2 ---------\n",
      "----- Epoch 2 training loss: 4.116719414579108 training accuracy: 0.714296123579132 -----\n",
      "----- Epoch 2 validation loss: 4.003234663788153 validation accuracy: 0.6536203522504892 -----\n",
      "--------- EPOCH 3 ---------\n",
      "----- Epoch 3 training loss: 3.42996347584623 training accuracy: 0.7192509472457015 -----\n",
      "----- Epoch 3 validation loss: 3.401612778099216 validation accuracy: 0.6592116298574224 -----\n",
      "--------- EPOCH 4 ---------\n",
      "----- Epoch 4 training loss: 2.6635901788447764 training accuracy: 0.7193966773535418 -----\n",
      "----- Epoch 4 validation loss: 2.8289028868383292 validation accuracy: 0.659491193737769 -----\n",
      "--------- EPOCH 5 ---------\n",
      "----- Epoch 5 training loss: 2.05380121602657 training accuracy: 0.7193238122996217 -----\n",
      "----- Epoch 5 validation loss: 2.423750578140726 validation accuracy: 0.6600503214984623 -----\n",
      "--------- EPOCH 6 ---------\n",
      "----- Epoch 6 training loss: 1.6854537018436067 training accuracy: 0.7191780821917814 -----\n",
      "----- Epoch 6 validation loss: 2.193690459338986 validation accuracy: 0.6600503214984623 -----\n",
      "--------- EPOCH 7 ---------\n",
      "----- Epoch 7 training loss: 1.505692387831972 training accuracy: 0.7191780821917814 -----\n",
      "----- Epoch 7 validation loss: 2.077837177685329 validation accuracy: 0.6600503214984623 -----\n",
      "--------- EPOCH 8 ---------\n",
      "----- Epoch 8 training loss: 1.4238569337002775 training accuracy: 0.7192509472457015 -----\n",
      "----- Epoch 8 validation loss: 2.0228189759108486 validation accuracy: 0.660329885378809 -----\n",
      "--------- EPOCH 9 ---------\n",
      "----- Epoch 9 training loss: 1.3775702175941873 training accuracy: 0.7192509472457015 -----\n",
      "----- Epoch 9 validation loss: 1.996038830401946 validation accuracy: 0.660329885378809 -----\n",
      "--------- EPOCH 10 ---------\n",
      "----- Epoch 10 training loss: 1.3371501273297248 training accuracy: 0.7192509472457015 -----\n",
      "----- Epoch 10 validation loss: 1.9813230031607103 validation accuracy: 0.660329885378809 -----\n",
      "--------- EPOCH 11 ---------\n",
      "----- Epoch 11 training loss: 1.294654001580908 training accuracy: 0.7192509472457015 -----\n",
      "----- Epoch 11 validation loss: 1.9724158735907809 validation accuracy: 0.660329885378809 -----\n",
      "--------- EPOCH 12 ---------\n",
      "----- Epoch 12 training loss: 1.2523592490148037 training accuracy: 0.7192509472457015 -----\n",
      "----- Epoch 12 validation loss: 1.9646183848381042 validation accuracy: 0.660329885378809 -----\n",
      "--------- EPOCH 13 ---------\n",
      "----- Epoch 13 training loss: 1.2127867239586851 training accuracy: 0.7192509472457015 -----\n",
      "----- Epoch 13 validation loss: 1.9504158953014685 validation accuracy: 0.6606094492591557 -----\n",
      "--------- EPOCH 14 ---------\n",
      "----- Epoch 14 training loss: 1.1754947257168749 training accuracy: 0.7192509472457015 -----\n",
      "----- Epoch 14 validation loss: 1.9234449346454776 validation accuracy: 0.6606094492591557 -----\n",
      "--------- EPOCH 15 ---------\n",
      "----- Epoch 15 training loss: 1.1394061236939532 training accuracy: 0.7192509472457015 -----\n",
      "----- Epoch 15 validation loss: 1.884202087412075 validation accuracy: 0.6606094492591557 -----\n",
      "--------- EPOCH 16 ---------\n",
      "----- Epoch 16 training loss: 1.1056471673098016 training accuracy: 0.7192509472457015 -----\n",
      "----- Epoch 16 validation loss: 1.8394798575615396 validation accuracy: 0.660329885378809 -----\n",
      "--------- EPOCH 17 ---------\n",
      "----- Epoch 17 training loss: 1.0771799066916425 training accuracy: 0.7192509472457015 -----\n",
      "----- Epoch 17 validation loss: 1.7982298008033208 validation accuracy: 0.660329885378809 -----\n",
      "--------- EPOCH 18 ---------\n",
      "----- Epoch 18 training loss: 1.0552841799056276 training accuracy: 0.7193238122996217 -----\n",
      "----- Epoch 18 validation loss: 1.7672499795349277 validation accuracy: 0.6606094492591557 -----\n",
      "--------- EPOCH 19 ---------\n",
      "----- Epoch 19 training loss: 1.0380629981134801 training accuracy: 0.7193966773535418 -----\n",
      "----- Epoch 19 validation loss: 1.7482386055041332 validation accuracy: 0.6606094492591557 -----\n",
      "--------- EPOCH 20 ---------\n",
      "----- Epoch 20 training loss: 1.0231007619741115 training accuracy: 0.7196152725153022 -----\n",
      "----- Epoch 20 validation loss: 1.7401811073021012 validation accuracy: 0.660329885378809 -----\n",
      "--------- EPOCH 21 ---------\n",
      "----- Epoch 21 training loss: 1.0090416631800063 training accuracy: 0.7200524628388231 -----\n",
      "----- Epoch 21 validation loss: 1.7417408349562664 validation accuracy: 0.659491193737769 -----\n",
      "--------- EPOCH 22 ---------\n",
      "----- Epoch 22 training loss: 0.9956618311240318 training accuracy: 0.7217283590789864 -----\n",
      "----- Epoch 22 validation loss: 1.7504694394919338 validation accuracy: 0.6513838412077162 -----\n",
      "--------- EPOCH 23 ---------\n",
      "----- Epoch 23 training loss: 0.9829288670357238 training accuracy: 0.7258816671524342 -----\n",
      "----- Epoch 23 validation loss: 1.7620717487773117 validation accuracy: 0.641599105395583 -----\n",
      "--------- EPOCH 24 ---------\n",
      "----- Epoch 24 training loss: 0.9707323750282856 training accuracy: 0.7298163800641219 -----\n",
      "----- Epoch 24 validation loss: 1.7738463921206338 validation accuracy: 0.6245457086944366 -----\n",
      "--------- EPOCH 25 ---------\n",
      "----- Epoch 25 training loss: 0.9592044451769363 training accuracy: 0.7349897988924518 -----\n",
      "----- Epoch 25 validation loss: 1.7852371493164374 validation accuracy: 0.6125244618395304 -----\n",
      "--------- EPOCH 26 ---------\n",
      "----- Epoch 26 training loss: 0.9484950506940801 training accuracy: 0.73928883707374 -----\n",
      "----- Epoch 26 validation loss: 1.7964529182229723 validation accuracy: 0.6010623427453172 -----\n",
      "--------- EPOCH 27 ---------\n",
      "----- Epoch 27 training loss: 0.9386092228616806 training accuracy: 0.7435878752550283 -----\n",
      "----- Epoch 27 validation loss: 1.8078268316327308 validation accuracy: 0.593793681856304 -----\n",
      "--------- EPOCH 28 ---------\n",
      "----- Epoch 28 training loss: 0.929448802182649 training accuracy: 0.7480326435441569 -----\n",
      "----- Epoch 28 validation loss: 1.8195152033348472 validation accuracy: 0.5909980430528377 -----\n",
      "--------- EPOCH 29 ---------\n",
      "----- Epoch 29 training loss: 0.9209154492363016 training accuracy: 0.7508015155931221 -----\n",
      "----- Epoch 29 validation loss: 1.8318426250195017 validation accuracy: 0.5851272015655579 -----\n",
      "--------- EPOCH 30 ---------\n",
      "----- Epoch 30 training loss: 0.9129362330633275 training accuracy: 0.7527688720489661 -----\n",
      "----- Epoch 30 validation loss: 1.845049182979428 validation accuracy: 0.5831702544031312 -----\n",
      "--------- EPOCH 31 ---------\n",
      "----- Epoch 31 training loss: 0.9053610912028779 training accuracy: 0.7538618478577682 -----\n",
      "----- Epoch 31 validation loss: 1.8590479620865412 validation accuracy: 0.582331562762091 -----\n",
      "--------- EPOCH 32 ---------\n",
      "----- Epoch 32 training loss: 0.898091344281714 training accuracy: 0.7553191489361709 -----\n",
      "----- Epoch 32 validation loss: 1.8736520519061965 validation accuracy: 0.5826111266424376 -----\n",
      "--------- EPOCH 33 ---------\n",
      "----- Epoch 33 training loss: 0.8911314765189556 training accuracy: 0.7559020693675321 -----\n",
      "----- Epoch 33 validation loss: 1.888807543686458 validation accuracy: 0.582331562762091 -----\n",
      "--------- EPOCH 34 ---------\n",
      "----- Epoch 34 training loss: 0.8844881832124071 training accuracy: 0.7562663946371327 -----\n",
      "----- Epoch 34 validation loss: 1.9042568395332413 validation accuracy: 0.5820519988817443 -----\n",
      "--------- EPOCH 35 ---------\n",
      "----- Epoch 35 training loss: 0.8781778151367573 training accuracy: 0.7567764500145738 -----\n",
      "----- Epoch 35 validation loss: 1.9200485330455157 validation accuracy: 0.5817724350013976 -----\n",
      "--------- EPOCH 36 ---------\n",
      "----- Epoch 36 training loss: 0.872211551095577 training accuracy: 0.7572136403380947 -----\n",
      "----- Epoch 36 validation loss: 1.9359657977308546 validation accuracy: 0.581492871121051 -----\n",
      "--------- EPOCH 37 ---------\n",
      "----- Epoch 37 training loss: 0.8664697315147583 training accuracy: 0.7573593704459349 -----\n",
      "----- Epoch 37 validation loss: 1.9516448737407217 validation accuracy: 0.5809337433603576 -----\n",
      "--------- EPOCH 38 ---------\n",
      "----- Epoch 38 training loss: 0.8608780848853131 training accuracy: 0.7577965607694558 -----\n",
      "----- Epoch 38 validation loss: 1.9669085917424183 validation accuracy: 0.5812133072407043 -----\n",
      "--------- EPOCH 39 ---------\n"
     ]
    },
    {
     "name": "stdout",
     "output_type": "stream",
     "text": [
      "----- Epoch 39 training loss: 0.8554300039689592 training accuracy: 0.7578694258233759 -----\n",
      "----- Epoch 39 validation loss: 1.9819819629192352 validation accuracy: 0.5812133072407043 -----\n",
      "--------- EPOCH 40 ---------\n",
      "----- Epoch 40 training loss: 0.8501133697622634 training accuracy: 0.7585980763625774 -----\n",
      "----- Epoch 40 validation loss: 1.9969806172409836 validation accuracy: 0.5812133072407043 -----\n",
      "--------- EPOCH 41 ---------\n",
      "----- Epoch 41 training loss: 0.8449006675088659 training accuracy: 0.7606382978723414 -----\n",
      "----- Epoch 41 validation loss: 2.011893707878736 validation accuracy: 0.581492871121051 -----\n",
      "--------- EPOCH 42 ---------\n",
      "----- Epoch 42 training loss: 0.8397682512060125 training accuracy: 0.7626785193821053 -----\n",
      "----- Epoch 42 validation loss: 2.026715266461275 validation accuracy: 0.581492871121051 -----\n",
      "--------- EPOCH 43 ---------\n",
      "----- Epoch 43 training loss: 0.8346823048876956 training accuracy: 0.7651559312153902 -----\n",
      "----- Epoch 43 validation loss: 2.04160876906648 validation accuracy: 0.5814928711210512 -----\n",
      "--------- EPOCH 44 ---------\n",
      "----- Epoch 44 training loss: 0.8296364740805423 training accuracy: 0.7669775575633936 -----\n",
      "----- Epoch 44 validation loss: 2.0568315313786876 validation accuracy: 0.5826111266424379 -----\n",
      "--------- EPOCH 45 ---------\n",
      "----- Epoch 45 training loss: 0.8246075454703037 training accuracy: 0.7679248032643555 -----\n",
      "----- Epoch 45 validation loss: 2.0724235602787564 validation accuracy: 0.5831702544031312 -----\n",
      "--------- EPOCH 46 ---------\n",
      "----- Epoch 46 training loss: 0.8195562718555014 training accuracy: 0.768143398426116 -----\n",
      "----- Epoch 46 validation loss: 2.088191422880912 validation accuracy: 0.5834498182834778 -----\n",
      "--------- EPOCH 47 ---------\n",
      "----- Epoch 47 training loss: 0.8145243764874783 training accuracy: 0.7690177790731576 -----\n",
      "----- Epoch 47 validation loss: 2.1045697142883224 validation accuracy: 0.5817724350013979 -----\n",
      "--------- EPOCH 48 ---------\n",
      "----- Epoch 48 training loss: 0.8095820140331349 training accuracy: 0.7701836199358798 -----\n",
      "----- Epoch 48 validation loss: 2.12156803571448 validation accuracy: 0.5828906905227845 -----\n",
      "--------- EPOCH 49 ---------\n",
      "----- Epoch 49 training loss: 0.8046661622505239 training accuracy: 0.7709851355290014 -----\n",
      "----- Epoch 49 validation loss: 2.139041541182265 validation accuracy: 0.5828906905227845 -----\n",
      "--------- EPOCH 50 ---------\n",
      "----- Epoch 50 training loss: 0.7997785770195596 training accuracy: 0.7710580005829215 -----\n",
      "----- Epoch 50 validation loss: 2.1571537207583993 validation accuracy: 0.5831702544031312 -----\n"
     ]
    }
   ],
   "source": [
    "train_eval_loss_epoch = list()\n",
    "train_eval_loss_batch = list()\n",
    "val_eval_loss_epoch = list()\n",
    "for epoch in range(1, num_epochs+1):\n",
    "    print(\"--------- EPOCH\", epoch, \"---------\")\n",
    "    train_epoch_acc = 0\n",
    "    train_epoch_loss = 0\n",
    "    val_epoch_acc = 0\n",
    "    val_epoch_loss = 0\n",
    "    \n",
    "    # train\n",
    "    train_epoch_acc, train_epoch_loss, train_eval_loss_batch = train(train_epoch_acc, train_epoch_loss, train_eval_loss_batch)\n",
    "    train_epoch_loss = train_epoch_loss/len(tokenized_train)\n",
    "    train_epoch_acc = train_epoch_acc/len(tokenized_train)\n",
    "    train_eval_loss_epoch.append(train_epoch_loss)\n",
    "    \n",
    "    # validation\n",
    "    val_epoch_acc, val_epoch_loss = test(val_epoch_acc, val_epoch_loss)\n",
    "    val_epoch_loss = val_epoch_loss/len(tokenized_validation)\n",
    "    val_epoch_acc = val_epoch_acc/len(tokenized_validation)\n",
    "    val_eval_loss_epoch.append(val_epoch_loss)\n",
    "    \n",
    "    print(\"----- Epoch\", epoch, \"training loss:\", train_epoch_loss, \"training accuracy:\", train_epoch_acc, \"-----\")\n",
    "    print(\"----- Epoch\", epoch, \"validation loss:\", val_epoch_loss, \"validation accuracy:\", val_epoch_acc, \"-----\")"
   ]
  },
  {
   "cell_type": "markdown",
   "metadata": {},
   "source": [
    "## Plotting Results"
   ]
  },
  {
   "cell_type": "code",
   "execution_count": 73,
   "metadata": {},
   "outputs": [
    {
     "data": {
      "text/plain": [
       "<function matplotlib.pyplot.show(close=None, block=None)>"
      ]
     },
     "execution_count": 73,
     "metadata": {},
     "output_type": "execute_result"
    },
    {
     "data": {
      "image/png": "[encoded data removed]",
      "text/plain": [
       "<Figure size 432x288 with 1 Axes>"
      ]
     },
     "metadata": {
      "needs_background": "light"
     },
     "output_type": "display_data"
    }
   ],
   "source": [
    "plt.plot(eval_loss_batch)\n",
    "#plt.plot([188, 376, 564], eval_loss_epoch)\n",
    "plt.show"
   ]
  },
  {
   "cell_type": "code",
   "execution_count": 204,
   "metadata": {},
   "outputs": [
    {
     "name": "stdout",
     "output_type": "stream",
     "text": [
      "9400\n",
      "188.0\n",
      "[188, 376, 564, 752, 940, 1128, 1316, 1504, 1692, 1880, 2068, 2256, 2444, 2632, 2820, 3008, 3196, 3384, 3572, 3760, 3948, 4136, 4324, 4512, 4700, 4888, 5076, 5264, 5452, 5640, 5828, 6016, 6204, 6392, 6580, 6768, 6956, 7144, 7332, 7520, 7708, 7896, 8084, 8272, 8460, 8648, 8836, 9024, 9212, 9400]\n"
     ]
    },
    {
     "data": {
      "text/plain": [
       "<function matplotlib.pyplot.show(close=None, block=None)>"
      ]
     },
     "execution_count": 204,
     "metadata": {},
     "output_type": "execute_result"
    },
    {
     "data": {
      "image/png": "[encoded data removed]",
      "text/plain": [
       "<Figure size 432x288 with 1 Axes>"
      ]
     },
     "metadata": {
      "needs_background": "light"
     },
     "output_type": "display_data"
    }
   ],
   "source": [
    "plt.plot(train_eval_loss_batch)\n",
    "print(len(train_eval_loss_batch))\n",
    "print(len(train_eval_loss_batch)/20)\n",
    "batches = [i for i in range(188,9401,188)]\n",
    "print(batches)\n",
    "#plt.plot(batches, train_eval_loss_epoch)\n",
    "#  plt.plot(batches, val_eval_loss_epoch)\n",
    "plt.show"
   ]
  },
  {
   "cell_type": "markdown",
   "metadata": {},
   "source": [
    "With adam optimizer, 50 epochs of training on the small dataset and 256 hidden_size and negative log likelyhood loss function the model heavily overfits.\n",
    "Same goes for 128 hidden_size.\n",
    "Same goes for cross entropy loss but not as heavily.\n",
    "We need regularization!"
   ]
  }
 ],
 "metadata": {
  "kernelspec": {
   "display_name": "Valentina_Luisa",
   "language": "python",
   "name": "valentina_luisa"
  },
  "language_info": {
   "codemirror_mode": {
    "name": "ipython",
    "version": 3
   },
   "file_extension": ".py",
   "mimetype": "text/x-python",
   "name": "python",
   "nbconvert_exporter": "python",
   "pygments_lexer": "ipython3",
   "version": "3.8.5"
  }
 },
 "nbformat": 4,
 "nbformat_minor": 4
}
